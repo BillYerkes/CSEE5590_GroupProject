{
  "nbformat": 4,
  "nbformat_minor": 0,
  "metadata": {
    "colab": {
      "name": "5590_Group_Project.ipynb",
      "provenance": [],
      "collapsed_sections": [],
      "toc_visible": true,
      "include_colab_link": true
    },
    "kernelspec": {
      "name": "python3",
      "display_name": "Python 3"
    }
  },
  "cells": [
    {
      "cell_type": "markdown",
      "metadata": {
        "id": "view-in-github",
        "colab_type": "text"
      },
      "source": [
        "<a href=\"https://colab.research.google.com/github/BillYerkes/CSEE5590_GroupProject/blob/main/Code/5590_Group_Project.ipynb\" target=\"_parent\"><img src=\"https://colab.research.google.com/assets/colab-badge.svg\" alt=\"Open In Colab\"/></a>"
      ]
    },
    {
      "cell_type": "markdown",
      "metadata": {
        "id": "0cG4DBRkT3wY"
      },
      "source": [
        "### Code from Kaggle\n",
        "//https://www.kaggle.com/varanr/hourly-energy-demand-time-series-forecast\n",
        "\n",
        "This is JUST for reference.  THIS IS NOT OUR CODE\n",
        "WE ARE USING THIS to help us learn."
      ]
    },
    {
      "cell_type": "code",
      "metadata": {
        "id": "2v3gJ2KwJgpx"
      },
      "source": [
        "# This Python 3 environment comes with many helpful analytics libraries installed\n",
        "# It is defined by the kaggle/python docker image: https://github.com/kaggle/docker-python\n",
        "# For example, here's several helpful packages to load in \n",
        "\n",
        "import numpy as np # linear algebra\n",
        "import pandas as pd # data processing, CSV file I/O (e.g. pd.read_csv)\n",
        "\n",
        "# Input data files are available in the \"../input/\" directory.\n",
        "# For example, running this (by clicking run or pressing Shift+Enter) will list all files under the input directory\n",
        "\n",
        "import os\n",
        "for dirname, _, filenames in os.walk('/kaggle/input'):\n",
        "    for filename in filenames:\n",
        "        print(os.path.join(dirname, filename))\n",
        "\n",
        "import matplotlib.pyplot as plt\n",
        "import pandas as pd\n",
        "pd.set_option('display.float_format', lambda x: '%.4f' % x)\n",
        "import seaborn as sns\n",
        "sns.set_context(\"paper\", font_scale=1.3)\n",
        "sns.set_style('white')\n",
        "import warnings\n",
        "warnings.filterwarnings('ignore')\n",
        "from time import time\n",
        "import matplotlib.ticker as tkr\n",
        "from scipy import stats\n",
        "from statsmodels.tsa.stattools import adfuller\n",
        "from sklearn import preprocessing\n",
        "from statsmodels.tsa.stattools import pacf\n",
        "%matplotlib inline\n",
        "import math\n",
        "import keras\n",
        "from keras.models import Sequential\n",
        "from keras.layers import Dense\n",
        "from keras.layers import LSTM\n",
        "from keras.layers import Dropout\n",
        "from keras.layers import *\n",
        "from sklearn.preprocessing import MinMaxScaler\n",
        "from sklearn.metrics import mean_squared_error\n",
        "from sklearn.metrics import mean_absolute_error\n",
        "from keras.callbacks import EarlyStopping\n",
        "# Any results you write to the current directory are saved as output."
      ],
      "execution_count": 12,
      "outputs": []
    },
    {
      "cell_type": "code",
      "metadata": {
        "id": "DcVE11s9JqUr"
      },
      "source": [
        "df = pd.read_csv(\"/content/energy_dataset.csv\")"
      ],
      "execution_count": 13,
      "outputs": []
    },
    {
      "cell_type": "code",
      "metadata": {
        "colab": {
          "base_uri": "https://localhost:8080/",
          "height": 377
        },
        "id": "eDJJM5AMJv20",
        "outputId": "b204b1f7-56cf-4b98-fb00-854aa5f26036"
      },
      "source": [
        "df.head()"
      ],
      "execution_count": 14,
      "outputs": [
        {
          "output_type": "execute_result",
          "data": {
            "text/html": [
              "<div>\n",
              "<style scoped>\n",
              "    .dataframe tbody tr th:only-of-type {\n",
              "        vertical-align: middle;\n",
              "    }\n",
              "\n",
              "    .dataframe tbody tr th {\n",
              "        vertical-align: top;\n",
              "    }\n",
              "\n",
              "    .dataframe thead th {\n",
              "        text-align: right;\n",
              "    }\n",
              "</style>\n",
              "<table border=\"1\" class=\"dataframe\">\n",
              "  <thead>\n",
              "    <tr style=\"text-align: right;\">\n",
              "      <th></th>\n",
              "      <th>time</th>\n",
              "      <th>generation biomass</th>\n",
              "      <th>generation fossil brown coal/lignite</th>\n",
              "      <th>generation fossil coal-derived gas</th>\n",
              "      <th>generation fossil gas</th>\n",
              "      <th>generation fossil hard coal</th>\n",
              "      <th>generation fossil oil</th>\n",
              "      <th>generation fossil oil shale</th>\n",
              "      <th>generation fossil peat</th>\n",
              "      <th>generation geothermal</th>\n",
              "      <th>generation hydro pumped storage aggregated</th>\n",
              "      <th>generation hydro pumped storage consumption</th>\n",
              "      <th>generation hydro run-of-river and poundage</th>\n",
              "      <th>generation hydro water reservoir</th>\n",
              "      <th>generation marine</th>\n",
              "      <th>generation nuclear</th>\n",
              "      <th>generation other</th>\n",
              "      <th>generation other renewable</th>\n",
              "      <th>generation solar</th>\n",
              "      <th>generation waste</th>\n",
              "      <th>generation wind offshore</th>\n",
              "      <th>generation wind onshore</th>\n",
              "      <th>forecast solar day ahead</th>\n",
              "      <th>forecast wind offshore eday ahead</th>\n",
              "      <th>forecast wind onshore day ahead</th>\n",
              "      <th>total load forecast</th>\n",
              "      <th>total load actual</th>\n",
              "      <th>price day ahead</th>\n",
              "      <th>price actual</th>\n",
              "    </tr>\n",
              "  </thead>\n",
              "  <tbody>\n",
              "    <tr>\n",
              "      <th>0</th>\n",
              "      <td>2015-01-01 00:00:00+01:00</td>\n",
              "      <td>447.0000</td>\n",
              "      <td>329.0000</td>\n",
              "      <td>0.0000</td>\n",
              "      <td>4844.0000</td>\n",
              "      <td>4821.0000</td>\n",
              "      <td>162.0000</td>\n",
              "      <td>0.0000</td>\n",
              "      <td>0.0000</td>\n",
              "      <td>0.0000</td>\n",
              "      <td>nan</td>\n",
              "      <td>863.0000</td>\n",
              "      <td>1051.0000</td>\n",
              "      <td>1899.0000</td>\n",
              "      <td>0.0000</td>\n",
              "      <td>7096.0000</td>\n",
              "      <td>43.0000</td>\n",
              "      <td>73.0000</td>\n",
              "      <td>49.0000</td>\n",
              "      <td>196.0000</td>\n",
              "      <td>0.0000</td>\n",
              "      <td>6378.0000</td>\n",
              "      <td>17.0000</td>\n",
              "      <td>nan</td>\n",
              "      <td>6436.0000</td>\n",
              "      <td>26118.0000</td>\n",
              "      <td>25385.0000</td>\n",
              "      <td>50.1000</td>\n",
              "      <td>65.4100</td>\n",
              "    </tr>\n",
              "    <tr>\n",
              "      <th>1</th>\n",
              "      <td>2015-01-01 01:00:00+01:00</td>\n",
              "      <td>449.0000</td>\n",
              "      <td>328.0000</td>\n",
              "      <td>0.0000</td>\n",
              "      <td>5196.0000</td>\n",
              "      <td>4755.0000</td>\n",
              "      <td>158.0000</td>\n",
              "      <td>0.0000</td>\n",
              "      <td>0.0000</td>\n",
              "      <td>0.0000</td>\n",
              "      <td>nan</td>\n",
              "      <td>920.0000</td>\n",
              "      <td>1009.0000</td>\n",
              "      <td>1658.0000</td>\n",
              "      <td>0.0000</td>\n",
              "      <td>7096.0000</td>\n",
              "      <td>43.0000</td>\n",
              "      <td>71.0000</td>\n",
              "      <td>50.0000</td>\n",
              "      <td>195.0000</td>\n",
              "      <td>0.0000</td>\n",
              "      <td>5890.0000</td>\n",
              "      <td>16.0000</td>\n",
              "      <td>nan</td>\n",
              "      <td>5856.0000</td>\n",
              "      <td>24934.0000</td>\n",
              "      <td>24382.0000</td>\n",
              "      <td>48.1000</td>\n",
              "      <td>64.9200</td>\n",
              "    </tr>\n",
              "    <tr>\n",
              "      <th>2</th>\n",
              "      <td>2015-01-01 02:00:00+01:00</td>\n",
              "      <td>448.0000</td>\n",
              "      <td>323.0000</td>\n",
              "      <td>0.0000</td>\n",
              "      <td>4857.0000</td>\n",
              "      <td>4581.0000</td>\n",
              "      <td>157.0000</td>\n",
              "      <td>0.0000</td>\n",
              "      <td>0.0000</td>\n",
              "      <td>0.0000</td>\n",
              "      <td>nan</td>\n",
              "      <td>1164.0000</td>\n",
              "      <td>973.0000</td>\n",
              "      <td>1371.0000</td>\n",
              "      <td>0.0000</td>\n",
              "      <td>7099.0000</td>\n",
              "      <td>43.0000</td>\n",
              "      <td>73.0000</td>\n",
              "      <td>50.0000</td>\n",
              "      <td>196.0000</td>\n",
              "      <td>0.0000</td>\n",
              "      <td>5461.0000</td>\n",
              "      <td>8.0000</td>\n",
              "      <td>nan</td>\n",
              "      <td>5454.0000</td>\n",
              "      <td>23515.0000</td>\n",
              "      <td>22734.0000</td>\n",
              "      <td>47.3300</td>\n",
              "      <td>64.4800</td>\n",
              "    </tr>\n",
              "    <tr>\n",
              "      <th>3</th>\n",
              "      <td>2015-01-01 03:00:00+01:00</td>\n",
              "      <td>438.0000</td>\n",
              "      <td>254.0000</td>\n",
              "      <td>0.0000</td>\n",
              "      <td>4314.0000</td>\n",
              "      <td>4131.0000</td>\n",
              "      <td>160.0000</td>\n",
              "      <td>0.0000</td>\n",
              "      <td>0.0000</td>\n",
              "      <td>0.0000</td>\n",
              "      <td>nan</td>\n",
              "      <td>1503.0000</td>\n",
              "      <td>949.0000</td>\n",
              "      <td>779.0000</td>\n",
              "      <td>0.0000</td>\n",
              "      <td>7098.0000</td>\n",
              "      <td>43.0000</td>\n",
              "      <td>75.0000</td>\n",
              "      <td>50.0000</td>\n",
              "      <td>191.0000</td>\n",
              "      <td>0.0000</td>\n",
              "      <td>5238.0000</td>\n",
              "      <td>2.0000</td>\n",
              "      <td>nan</td>\n",
              "      <td>5151.0000</td>\n",
              "      <td>22642.0000</td>\n",
              "      <td>21286.0000</td>\n",
              "      <td>42.2700</td>\n",
              "      <td>59.3200</td>\n",
              "    </tr>\n",
              "    <tr>\n",
              "      <th>4</th>\n",
              "      <td>2015-01-01 04:00:00+01:00</td>\n",
              "      <td>428.0000</td>\n",
              "      <td>187.0000</td>\n",
              "      <td>0.0000</td>\n",
              "      <td>4130.0000</td>\n",
              "      <td>3840.0000</td>\n",
              "      <td>156.0000</td>\n",
              "      <td>0.0000</td>\n",
              "      <td>0.0000</td>\n",
              "      <td>0.0000</td>\n",
              "      <td>nan</td>\n",
              "      <td>1826.0000</td>\n",
              "      <td>953.0000</td>\n",
              "      <td>720.0000</td>\n",
              "      <td>0.0000</td>\n",
              "      <td>7097.0000</td>\n",
              "      <td>43.0000</td>\n",
              "      <td>74.0000</td>\n",
              "      <td>42.0000</td>\n",
              "      <td>189.0000</td>\n",
              "      <td>0.0000</td>\n",
              "      <td>4935.0000</td>\n",
              "      <td>9.0000</td>\n",
              "      <td>nan</td>\n",
              "      <td>4861.0000</td>\n",
              "      <td>21785.0000</td>\n",
              "      <td>20264.0000</td>\n",
              "      <td>38.4100</td>\n",
              "      <td>56.0400</td>\n",
              "    </tr>\n",
              "  </tbody>\n",
              "</table>\n",
              "</div>"
            ],
            "text/plain": [
              "                        time  generation biomass  ...  price day ahead  price actual\n",
              "0  2015-01-01 00:00:00+01:00            447.0000  ...          50.1000       65.4100\n",
              "1  2015-01-01 01:00:00+01:00            449.0000  ...          48.1000       64.9200\n",
              "2  2015-01-01 02:00:00+01:00            448.0000  ...          47.3300       64.4800\n",
              "3  2015-01-01 03:00:00+01:00            438.0000  ...          42.2700       59.3200\n",
              "4  2015-01-01 04:00:00+01:00            428.0000  ...          38.4100       56.0400\n",
              "\n",
              "[5 rows x 29 columns]"
            ]
          },
          "metadata": {
            "tags": []
          },
          "execution_count": 14
        }
      ]
    },
    {
      "cell_type": "code",
      "metadata": {
        "colab": {
          "base_uri": "https://localhost:8080/"
        },
        "id": "4IMkXJ-QJ3hb",
        "outputId": "87d85691-96f5-410f-ed01-481bd98b71a6"
      },
      "source": [
        "df.info()"
      ],
      "execution_count": 15,
      "outputs": [
        {
          "output_type": "stream",
          "text": [
            "<class 'pandas.core.frame.DataFrame'>\n",
            "RangeIndex: 35064 entries, 0 to 35063\n",
            "Data columns (total 29 columns):\n",
            " #   Column                                       Non-Null Count  Dtype  \n",
            "---  ------                                       --------------  -----  \n",
            " 0   time                                         35064 non-null  object \n",
            " 1   generation biomass                           35045 non-null  float64\n",
            " 2   generation fossil brown coal/lignite         35046 non-null  float64\n",
            " 3   generation fossil coal-derived gas           35046 non-null  float64\n",
            " 4   generation fossil gas                        35046 non-null  float64\n",
            " 5   generation fossil hard coal                  35046 non-null  float64\n",
            " 6   generation fossil oil                        35045 non-null  float64\n",
            " 7   generation fossil oil shale                  35046 non-null  float64\n",
            " 8   generation fossil peat                       35046 non-null  float64\n",
            " 9   generation geothermal                        35046 non-null  float64\n",
            " 10  generation hydro pumped storage aggregated   0 non-null      float64\n",
            " 11  generation hydro pumped storage consumption  35045 non-null  float64\n",
            " 12  generation hydro run-of-river and poundage   35045 non-null  float64\n",
            " 13  generation hydro water reservoir             35046 non-null  float64\n",
            " 14  generation marine                            35045 non-null  float64\n",
            " 15  generation nuclear                           35047 non-null  float64\n",
            " 16  generation other                             35046 non-null  float64\n",
            " 17  generation other renewable                   35046 non-null  float64\n",
            " 18  generation solar                             35046 non-null  float64\n",
            " 19  generation waste                             35045 non-null  float64\n",
            " 20  generation wind offshore                     35046 non-null  float64\n",
            " 21  generation wind onshore                      35046 non-null  float64\n",
            " 22  forecast solar day ahead                     35064 non-null  float64\n",
            " 23  forecast wind offshore eday ahead            0 non-null      float64\n",
            " 24  forecast wind onshore day ahead              35064 non-null  float64\n",
            " 25  total load forecast                          35064 non-null  float64\n",
            " 26  total load actual                            35028 non-null  float64\n",
            " 27  price day ahead                              35064 non-null  float64\n",
            " 28  price actual                                 35064 non-null  float64\n",
            "dtypes: float64(28), object(1)\n",
            "memory usage: 7.8+ MB\n"
          ],
          "name": "stdout"
        }
      ]
    },
    {
      "cell_type": "code",
      "metadata": {
        "colab": {
          "base_uri": "https://localhost:8080/"
        },
        "id": "zfrOVdjwJ86c",
        "outputId": "4b73ecff-52db-4aa0-c6e8-7dff858c2972"
      },
      "source": [
        "mape = np.mean(np.abs((df['total load actual'] - df['total load forecast']) / df['total load actual'])) * 100\n",
        "print('MAPE of the forecasted data present in DataFrame:', mape)"
      ],
      "execution_count": 16,
      "outputs": [
        {
          "output_type": "stream",
          "text": [
            "MAPE of the forecasted data present in DataFrame: 1.096023073723821\n"
          ],
          "name": "stdout"
        }
      ]
    },
    {
      "cell_type": "code",
      "metadata": {
        "colab": {
          "base_uri": "https://localhost:8080/"
        },
        "id": "-QHzKzH6KHEw",
        "outputId": "aea87847-a42e-4be9-ebf3-41e4f4665340"
      },
      "source": [
        "temp = df.copy() # make temporary copy of dataframe\n",
        "dataset = temp['total load actual'].dropna().values # numpy.ndarray of the actual load\n",
        "dataset = dataset.astype('float32') \n",
        "dataset = np.reshape(dataset, (-1, 1)) # reshape to one feature; required for the models\n",
        "\n",
        "scaler = MinMaxScaler(feature_range=(0, 1)) # Min Max scaler\n",
        "dataset = scaler.fit_transform(dataset) # fit and transform the dataset\n",
        "\n",
        "# Train and Test splits\n",
        "train_size = int(len(dataset) * 0.80) \n",
        "test_size = len(dataset) - train_size\n",
        "train, test = dataset[0:train_size,:], dataset[train_size:len(dataset),:]\n",
        "\n",
        "def create_dataset(dataset, look_back=1):\n",
        "    X, Y = [], []\n",
        "    for i in range(len(dataset)-look_back-1):\n",
        "        a = dataset[i:(i+look_back), 0]\n",
        "        X.append(a)\n",
        "        Y.append(dataset[i + look_back, 0])\n",
        "    return np.array(X), np.array(Y)\n",
        "    \n",
        "look_back = 25 # timesteps to lookback for predictions\n",
        "X_train, trainY = create_dataset(train, look_back)\n",
        "X_test, testY = create_dataset(test, look_back)\n",
        "\n",
        "# reshape input to be [samples, time steps, features]\n",
        "X_train = np.reshape(X_train, (X_train.shape[0], 1, X_train.shape[1]))\n",
        "X_test = np.reshape(X_test, (X_test.shape[0], 1, X_test.shape[1]))\n",
        "print(\"Shapes: \\nTraining set: {}, Testing set: {}\".format(X_train.shape, X_test.shape))\n",
        "print(\"Sample from training set: \\n{}\".format(X_train[0]))"
      ],
      "execution_count": 17,
      "outputs": [
        {
          "output_type": "stream",
          "text": [
            "Shapes: \n",
            "Training set: (27996, 1, 25), Testing set: (6980, 1, 25)\n",
            "Sample from training set: \n",
            "[[0.31966567 0.27600765 0.20427442 0.14124662 0.09676152 0.08113521\n",
            "  0.08570558 0.10168016 0.08936191 0.11299729 0.1832071  0.23966217\n",
            "  0.26516938 0.2904153  0.2886306  0.23883522 0.22098899 0.2422303\n",
            "  0.36589193 0.43436062 0.47762692 0.5018717  0.47836685 0.38117003\n",
            "  0.39300954]]\n"
          ],
          "name": "stdout"
        }
      ]
    },
    {
      "cell_type": "code",
      "metadata": {
        "id": "6oIUk8zFKOU2"
      },
      "source": [
        "from statsmodels.tsa.ar_model import AR\n",
        "\n",
        "model = AR(train)\n",
        "model_fit = model.fit()"
      ],
      "execution_count": 18,
      "outputs": []
    },
    {
      "cell_type": "code",
      "metadata": {
        "colab": {
          "base_uri": "https://localhost:8080/"
        },
        "id": "_vJfy4MRKR6Z",
        "outputId": "07c8166e-ff4c-4a7f-dd78-931e58375693"
      },
      "source": [
        "test_predict = model_fit.predict(start=len(train), end=len(train)+len(test)-1, dynamic=False)\n",
        "# invert predictions\n",
        "test_predict = scaler.inverse_transform(test_predict.reshape(-1, 1))\n",
        "Y_test = scaler.inverse_transform(test)\n",
        "print('Test Mean Absolute Error:', mean_absolute_error(Y_test, test_predict))\n",
        "print('Test Root Mean Squared Error:',np.sqrt(mean_squared_error(Y_test, test_predict)))"
      ],
      "execution_count": 19,
      "outputs": [
        {
          "output_type": "stream",
          "text": [
            "Test Mean Absolute Error: 3729.264425078766\n",
            "Test Root Mean Squared Error: 4391.073081234284\n"
          ],
          "name": "stdout"
        }
      ]
    },
    {
      "cell_type": "code",
      "metadata": {
        "colab": {
          "base_uri": "https://localhost:8080/"
        },
        "id": "1A7zKQWjKViP",
        "outputId": "e412ec30-0925-443a-f94e-f90bbefe2bfa"
      },
      "source": [
        "mape = np.mean(np.abs((Y_test - test_predict) / Y_test)) * 100\n",
        "print(\"Testing MAPE: {}\".format(mape))"
      ],
      "execution_count": 20,
      "outputs": [
        {
          "output_type": "stream",
          "text": [
            "Testing MAPE: 13.333375085466773\n"
          ],
          "name": "stdout"
        }
      ]
    },
    {
      "cell_type": "code",
      "metadata": {
        "colab": {
          "base_uri": "https://localhost:8080/",
          "height": 316
        },
        "id": "GR6HkjOKKY5B",
        "outputId": "e1220279-f43a-48ba-9746-8f187dc9765e"
      },
      "source": [
        "idx = 200\n",
        "aa=[x for x in range(idx)]\n",
        "plt.figure(figsize=(8,4))\n",
        "plt.plot(aa, Y_test[:idx], marker='.', label=\"actual\")\n",
        "plt.plot(aa, test_predict[:idx], 'r', label=\"prediction\")\n",
        "# plt.tick_params(left=False, labelleft=True) #remove ticks\n",
        "plt.tight_layout()\n",
        "sns.despine(top=True)\n",
        "plt.subplots_adjust(left=0.07)\n",
        "plt.ylabel('TOTAL Load', size=15)\n",
        "plt.xlabel('Time step', size=15)\n",
        "plt.legend(fontsize=15)\n",
        "plt.show();"
      ],
      "execution_count": 21,
      "outputs": [
        {
          "output_type": "display_data",
          "data": {
            "image/png": "[encoded data removed]",
            "text/plain": [
              "<Figure size 576x288 with 1 Axes>"
            ]
          },
          "metadata": {
            "tags": [],
            "needs_background": "light"
          }
        }
      ]
    },
    {
      "cell_type": "code",
      "metadata": {
        "colab": {
          "base_uri": "https://localhost:8080/"
        },
        "id": "d_JWqcMaKfya",
        "outputId": "0acdd620-e671-4f90-eb94-58babc3cd42e"
      },
      "source": [
        "test_predict = np.mean(X_test, axis=2)\n",
        "print('Test Mean Absolute Error:', mean_absolute_error(testY, test_predict))\n",
        "print('Test Root Mean Squared Error:',np.sqrt(mean_squared_error(testY, test_predict)))"
      ],
      "execution_count": 24,
      "outputs": [
        {
          "output_type": "stream",
          "text": [
            "Test Mean Absolute Error: 0.14497761\n",
            "Test Root Mean Squared Error: 0.17464507\n"
          ],
          "name": "stdout"
        }
      ]
    },
    {
      "cell_type": "code",
      "metadata": {
        "colab": {
          "base_uri": "https://localhost:8080/",
          "height": 180
        },
        "id": "DyFDFkXlKjOj",
        "outputId": "04c8404e-d04b-4924-fe02-f311e76c0839"
      },
      "source": [
        "mape = np.mean(np.abs((Y_test - test_predict) / Y_test)) * 100\n",
        "print(\"Testing MAPE: {}\".format(mape))"
      ],
      "execution_count": 25,
      "outputs": [
        {
          "output_type": "error",
          "ename": "ValueError",
          "evalue": "ignored",
          "traceback": [
            "\u001b[0;31m---------------------------------------------------------------------------\u001b[0m",
            "\u001b[0;31mValueError\u001b[0m                                Traceback (most recent call last)",
            "\u001b[0;32m<ipython-input-25-996efb23a96f>\u001b[0m in \u001b[0;36m<module>\u001b[0;34m()\u001b[0m\n\u001b[0;32m----> 1\u001b[0;31m \u001b[0mmape\u001b[0m \u001b[0;34m=\u001b[0m \u001b[0mnp\u001b[0m\u001b[0;34m.\u001b[0m\u001b[0mmean\u001b[0m\u001b[0;34m(\u001b[0m\u001b[0mnp\u001b[0m\u001b[0;34m.\u001b[0m\u001b[0mabs\u001b[0m\u001b[0;34m(\u001b[0m\u001b[0;34m(\u001b[0m\u001b[0mY_test\u001b[0m \u001b[0;34m-\u001b[0m \u001b[0mtest_predict\u001b[0m\u001b[0;34m)\u001b[0m \u001b[0;34m/\u001b[0m \u001b[0mY_test\u001b[0m\u001b[0;34m)\u001b[0m\u001b[0;34m)\u001b[0m \u001b[0;34m*\u001b[0m \u001b[0;36m100\u001b[0m\u001b[0;34m\u001b[0m\u001b[0;34m\u001b[0m\u001b[0m\n\u001b[0m\u001b[1;32m      2\u001b[0m \u001b[0mprint\u001b[0m\u001b[0;34m(\u001b[0m\u001b[0;34m\"Testing MAPE: {}\"\u001b[0m\u001b[0;34m.\u001b[0m\u001b[0mformat\u001b[0m\u001b[0;34m(\u001b[0m\u001b[0mmape\u001b[0m\u001b[0;34m)\u001b[0m\u001b[0;34m)\u001b[0m\u001b[0;34m\u001b[0m\u001b[0;34m\u001b[0m\u001b[0m\n",
            "\u001b[0;31mValueError\u001b[0m: operands could not be broadcast together with shapes (7006,1) (6980,1) "
          ]
        }
      ]
    },
    {
      "cell_type": "code",
      "metadata": {
        "colab": {
          "base_uri": "https://localhost:8080/",
          "height": 316
        },
        "id": "6QHZxxsWKr98",
        "outputId": "961a5827-2253-4097-cfce-396863bd8a2e"
      },
      "source": [
        "idx = 200\n",
        "aa=[x for x in range(idx)]\n",
        "plt.figure(figsize=(8,4))\n",
        "plt.plot(aa, testY[:idx], marker='.', label=\"actual\")\n",
        "plt.plot(aa, test_predict[:idx], 'r', label=\"prediction\")\n",
        "# plt.tick_params(left=False, labelleft=True) #remove ticks\n",
        "plt.tight_layout()\n",
        "sns.despine(top=True)\n",
        "plt.subplots_adjust(left=0.07)\n",
        "plt.ylabel('TOTAL Load', size=15)\n",
        "plt.xlabel('Time step', size=15)\n",
        "plt.legend(fontsize=15)\n",
        "plt.show();"
      ],
      "execution_count": 26,
      "outputs": [
        {
          "output_type": "display_data",
          "data": {
            "image/png": "[encoded data removed]",
            "text/plain": [
              "<Figure size 576x288 with 1 Axes>"
            ]
          },
          "metadata": {
            "tags": [],
            "needs_background": "light"
          }
        }
      ]
    },
    {
      "cell_type": "code",
      "metadata": {
        "id": "ZGJVS5pUK773"
      },
      "source": [
        "# making data again to remove inconsistencies\n",
        "temp = df\n",
        "dataset = temp['total load actual'].dropna().values #numpy.ndarray\n",
        "dataset = dataset.astype('float32')\n",
        "dataset = np.reshape(dataset, (-1, 1))\n",
        "scaler = MinMaxScaler(feature_range=(0, 1))\n",
        "dataset = scaler.fit_transform(dataset)\n",
        "train_size = int(len(dataset) * 0.80)\n",
        "test_size = len(dataset) - train_size\n",
        "train, test = dataset[0:train_size,:], dataset[train_size:len(dataset),:]\n",
        "\n",
        "def create_dataset(dataset, look_back=1):\n",
        "    X, Y = [], []\n",
        "    for i in range(len(dataset)-look_back-1):\n",
        "        a = dataset[i:(i+look_back), 0]\n",
        "        X.append(a)\n",
        "        Y.append(dataset[i + look_back, 0])\n",
        "    return np.array(X), np.array(Y)\n",
        "    \n",
        "look_back = 25\n",
        "X_train, Y_train = create_dataset(train, look_back)\n",
        "X_test, Y_test = create_dataset(test, look_back)\n",
        "\n",
        "# reshape input to be [samples, time steps, features]\n",
        "X_train = np.reshape(X_train, (X_train.shape[0], 1, X_train.shape[1]))\n",
        "X_test = np.reshape(X_test, (X_test.shape[0], 1, X_test.shape[1]))"
      ],
      "execution_count": 27,
      "outputs": []
    },
    {
      "cell_type": "code",
      "metadata": {
        "colab": {
          "base_uri": "https://localhost:8080/"
        },
        "id": "xQvOLwQZLAnA",
        "outputId": "8af058d6-b9c1-4118-e721-59e957a03c90"
      },
      "source": [
        "model = Sequential()\n",
        "model.add(LSTM(100, input_shape=(X_train.shape[1], X_train.shape[2])))\n",
        "model.add(Dropout(0.2))\n",
        "model.add(Dense(1))\n",
        "model.compile(loss='mean_squared_error', optimizer='adam')\n",
        "\n",
        "history = model.fit(X_train, Y_train, epochs=200, batch_size=70, validation_data=(X_test, Y_test),verbose=1, shuffle=False)\n",
        "\n",
        "model.summary()"
      ],
      "execution_count": 28,
      "outputs": [
        {
          "output_type": "stream",
          "text": [
            "Epoch 1/200\n",
            "400/400 [==============================] - 4s 4ms/step - loss: 0.0457 - val_loss: 0.0040\n",
            "Epoch 2/200\n",
            "400/400 [==============================] - 1s 3ms/step - loss: 0.0046 - val_loss: 0.0020\n",
            "Epoch 3/200\n",
            "400/400 [==============================] - 1s 3ms/step - loss: 0.0031 - val_loss: 0.0015\n",
            "Epoch 4/200\n",
            "400/400 [==============================] - 1s 3ms/step - loss: 0.0025 - val_loss: 0.0012\n",
            "Epoch 5/200\n",
            "400/400 [==============================] - 1s 3ms/step - loss: 0.0023 - val_loss: 0.0011\n",
            "Epoch 6/200\n",
            "400/400 [==============================] - 1s 3ms/step - loss: 0.0021 - val_loss: 0.0010\n",
            "Epoch 7/200\n",
            "400/400 [==============================] - 1s 3ms/step - loss: 0.0020 - val_loss: 9.6539e-04\n",
            "Epoch 8/200\n",
            "400/400 [==============================] - 1s 3ms/step - loss: 0.0019 - val_loss: 9.4141e-04\n",
            "Epoch 9/200\n",
            "400/400 [==============================] - 1s 3ms/step - loss: 0.0018 - val_loss: 9.2600e-04\n",
            "Epoch 10/200\n",
            "400/400 [==============================] - 1s 3ms/step - loss: 0.0018 - val_loss: 8.8920e-04\n",
            "Epoch 11/200\n",
            "400/400 [==============================] - 1s 3ms/step - loss: 0.0017 - val_loss: 9.2907e-04\n",
            "Epoch 12/200\n",
            "400/400 [==============================] - 1s 3ms/step - loss: 0.0016 - val_loss: 8.4743e-04\n",
            "Epoch 13/200\n",
            "400/400 [==============================] - 1s 3ms/step - loss: 0.0016 - val_loss: 8.3071e-04\n",
            "Epoch 14/200\n",
            "400/400 [==============================] - 1s 3ms/step - loss: 0.0015 - val_loss: 8.5845e-04\n",
            "Epoch 15/200\n",
            "400/400 [==============================] - 1s 3ms/step - loss: 0.0015 - val_loss: 8.4275e-04\n",
            "Epoch 16/200\n",
            "400/400 [==============================] - 1s 3ms/step - loss: 0.0015 - val_loss: 7.9447e-04\n",
            "Epoch 17/200\n",
            "400/400 [==============================] - 1s 3ms/step - loss: 0.0014 - val_loss: 8.6757e-04\n",
            "Epoch 18/200\n",
            "400/400 [==============================] - 1s 3ms/step - loss: 0.0014 - val_loss: 8.0973e-04\n",
            "Epoch 19/200\n",
            "400/400 [==============================] - 1s 3ms/step - loss: 0.0014 - val_loss: 7.6844e-04\n",
            "Epoch 20/200\n",
            "400/400 [==============================] - 1s 3ms/step - loss: 0.0014 - val_loss: 7.5974e-04\n",
            "Epoch 21/200\n",
            "400/400 [==============================] - 1s 3ms/step - loss: 0.0013 - val_loss: 7.6175e-04\n",
            "Epoch 22/200\n",
            "400/400 [==============================] - 1s 3ms/step - loss: 0.0013 - val_loss: 7.6213e-04\n",
            "Epoch 23/200\n",
            "400/400 [==============================] - 1s 3ms/step - loss: 0.0013 - val_loss: 7.4006e-04\n",
            "Epoch 24/200\n",
            "400/400 [==============================] - 1s 3ms/step - loss: 0.0013 - val_loss: 7.2262e-04\n",
            "Epoch 25/200\n",
            "400/400 [==============================] - 1s 3ms/step - loss: 0.0013 - val_loss: 7.4313e-04\n",
            "Epoch 26/200\n",
            "400/400 [==============================] - 1s 3ms/step - loss: 0.0012 - val_loss: 8.3059e-04\n",
            "Epoch 27/200\n",
            "400/400 [==============================] - 1s 3ms/step - loss: 0.0012 - val_loss: 7.2633e-04\n",
            "Epoch 28/200\n",
            "400/400 [==============================] - 1s 3ms/step - loss: 0.0012 - val_loss: 6.8195e-04\n",
            "Epoch 29/200\n",
            "400/400 [==============================] - 1s 3ms/step - loss: 0.0012 - val_loss: 7.1370e-04\n",
            "Epoch 30/200\n",
            "400/400 [==============================] - 1s 3ms/step - loss: 0.0012 - val_loss: 7.0611e-04\n",
            "Epoch 31/200\n",
            "400/400 [==============================] - 1s 3ms/step - loss: 0.0012 - val_loss: 7.5069e-04\n",
            "Epoch 32/200\n",
            "400/400 [==============================] - 1s 3ms/step - loss: 0.0012 - val_loss: 6.9919e-04\n",
            "Epoch 33/200\n",
            "400/400 [==============================] - 1s 3ms/step - loss: 0.0011 - val_loss: 6.7825e-04\n",
            "Epoch 34/200\n",
            "400/400 [==============================] - 1s 3ms/step - loss: 0.0011 - val_loss: 6.5308e-04\n",
            "Epoch 35/200\n",
            "400/400 [==============================] - 1s 3ms/step - loss: 0.0011 - val_loss: 6.8590e-04\n",
            "Epoch 36/200\n",
            "400/400 [==============================] - 1s 3ms/step - loss: 0.0011 - val_loss: 6.6344e-04\n",
            "Epoch 37/200\n",
            "400/400 [==============================] - 1s 3ms/step - loss: 0.0011 - val_loss: 6.5153e-04\n",
            "Epoch 38/200\n",
            "400/400 [==============================] - 1s 3ms/step - loss: 0.0011 - val_loss: 6.3919e-04\n",
            "Epoch 39/200\n",
            "400/400 [==============================] - 1s 3ms/step - loss: 0.0011 - val_loss: 6.3756e-04\n",
            "Epoch 40/200\n",
            "400/400 [==============================] - 1s 3ms/step - loss: 0.0011 - val_loss: 7.4631e-04\n",
            "Epoch 41/200\n",
            "400/400 [==============================] - 1s 3ms/step - loss: 0.0011 - val_loss: 6.6180e-04\n",
            "Epoch 42/200\n",
            "400/400 [==============================] - 1s 3ms/step - loss: 0.0011 - val_loss: 6.4320e-04\n",
            "Epoch 43/200\n",
            "400/400 [==============================] - 1s 3ms/step - loss: 0.0011 - val_loss: 6.5547e-04\n",
            "Epoch 44/200\n",
            "400/400 [==============================] - 1s 3ms/step - loss: 0.0011 - val_loss: 6.3492e-04\n",
            "Epoch 45/200\n",
            "400/400 [==============================] - 1s 3ms/step - loss: 0.0011 - val_loss: 6.3205e-04\n",
            "Epoch 46/200\n",
            "400/400 [==============================] - 1s 3ms/step - loss: 0.0011 - val_loss: 6.2708e-04\n",
            "Epoch 47/200\n",
            "400/400 [==============================] - 1s 3ms/step - loss: 0.0011 - val_loss: 6.5452e-04\n",
            "Epoch 48/200\n",
            "400/400 [==============================] - 1s 3ms/step - loss: 0.0011 - val_loss: 6.2488e-04\n",
            "Epoch 49/200\n",
            "400/400 [==============================] - 1s 3ms/step - loss: 0.0011 - val_loss: 6.5981e-04\n",
            "Epoch 50/200\n",
            "400/400 [==============================] - 1s 3ms/step - loss: 0.0011 - val_loss: 6.2777e-04\n",
            "Epoch 51/200\n",
            "400/400 [==============================] - 1s 3ms/step - loss: 0.0011 - val_loss: 6.2897e-04\n",
            "Epoch 52/200\n",
            "400/400 [==============================] - 1s 3ms/step - loss: 0.0011 - val_loss: 6.2755e-04\n",
            "Epoch 53/200\n",
            "400/400 [==============================] - 1s 3ms/step - loss: 0.0011 - val_loss: 6.5780e-04\n",
            "Epoch 54/200\n",
            "400/400 [==============================] - 1s 3ms/step - loss: 0.0011 - val_loss: 6.6511e-04\n",
            "Epoch 55/200\n",
            "400/400 [==============================] - 1s 3ms/step - loss: 0.0011 - val_loss: 6.8848e-04\n",
            "Epoch 56/200\n",
            "400/400 [==============================] - 1s 3ms/step - loss: 0.0011 - val_loss: 6.4541e-04\n",
            "Epoch 57/200\n",
            "400/400 [==============================] - 1s 3ms/step - loss: 0.0011 - val_loss: 6.1656e-04\n",
            "Epoch 58/200\n",
            "400/400 [==============================] - 1s 3ms/step - loss: 0.0011 - val_loss: 6.8060e-04\n",
            "Epoch 59/200\n",
            "400/400 [==============================] - 1s 3ms/step - loss: 0.0010 - val_loss: 6.2368e-04\n",
            "Epoch 60/200\n",
            "400/400 [==============================] - 1s 3ms/step - loss: 0.0011 - val_loss: 6.1772e-04\n",
            "Epoch 61/200\n",
            "400/400 [==============================] - 1s 3ms/step - loss: 0.0010 - val_loss: 6.7746e-04\n",
            "Epoch 62/200\n",
            "400/400 [==============================] - 1s 3ms/step - loss: 0.0010 - val_loss: 6.2310e-04\n",
            "Epoch 63/200\n",
            "400/400 [==============================] - 1s 3ms/step - loss: 0.0011 - val_loss: 6.1916e-04\n",
            "Epoch 64/200\n",
            "400/400 [==============================] - 1s 3ms/step - loss: 0.0011 - val_loss: 6.5058e-04\n",
            "Epoch 65/200\n",
            "400/400 [==============================] - 1s 3ms/step - loss: 0.0010 - val_loss: 6.4703e-04\n",
            "Epoch 66/200\n",
            "400/400 [==============================] - 1s 3ms/step - loss: 0.0011 - val_loss: 6.1430e-04\n",
            "Epoch 67/200\n",
            "400/400 [==============================] - 1s 3ms/step - loss: 0.0010 - val_loss: 6.3812e-04\n",
            "Epoch 68/200\n",
            "400/400 [==============================] - 1s 3ms/step - loss: 0.0010 - val_loss: 6.2132e-04\n",
            "Epoch 69/200\n",
            "400/400 [==============================] - 1s 3ms/step - loss: 0.0011 - val_loss: 6.9199e-04\n",
            "Epoch 70/200\n",
            "400/400 [==============================] - 1s 3ms/step - loss: 0.0010 - val_loss: 6.2317e-04\n",
            "Epoch 71/200\n",
            "400/400 [==============================] - 1s 3ms/step - loss: 0.0011 - val_loss: 6.2062e-04\n",
            "Epoch 72/200\n",
            "400/400 [==============================] - 1s 3ms/step - loss: 0.0010 - val_loss: 5.9873e-04\n",
            "Epoch 73/200\n",
            "400/400 [==============================] - 1s 3ms/step - loss: 0.0010 - val_loss: 6.5431e-04\n",
            "Epoch 74/200\n",
            "400/400 [==============================] - 1s 3ms/step - loss: 0.0011 - val_loss: 6.1148e-04\n",
            "Epoch 75/200\n",
            "400/400 [==============================] - 1s 3ms/step - loss: 0.0010 - val_loss: 6.2537e-04\n",
            "Epoch 76/200\n",
            "400/400 [==============================] - 1s 3ms/step - loss: 0.0011 - val_loss: 6.8641e-04\n",
            "Epoch 77/200\n",
            "400/400 [==============================] - 1s 3ms/step - loss: 0.0010 - val_loss: 5.9643e-04\n",
            "Epoch 78/200\n",
            "400/400 [==============================] - 1s 3ms/step - loss: 0.0010 - val_loss: 6.7571e-04\n",
            "Epoch 79/200\n",
            "400/400 [==============================] - 1s 3ms/step - loss: 0.0010 - val_loss: 6.3202e-04\n",
            "Epoch 80/200\n",
            "400/400 [==============================] - 1s 3ms/step - loss: 0.0010 - val_loss: 7.1701e-04\n",
            "Epoch 81/200\n",
            "400/400 [==============================] - 1s 3ms/step - loss: 0.0010 - val_loss: 5.9179e-04\n",
            "Epoch 82/200\n",
            "400/400 [==============================] - 1s 3ms/step - loss: 0.0010 - val_loss: 6.0922e-04\n",
            "Epoch 83/200\n",
            "400/400 [==============================] - 1s 3ms/step - loss: 0.0010 - val_loss: 6.3694e-04\n",
            "Epoch 84/200\n",
            "400/400 [==============================] - 1s 3ms/step - loss: 0.0010 - val_loss: 6.1119e-04\n",
            "Epoch 85/200\n",
            "400/400 [==============================] - 1s 3ms/step - loss: 0.0010 - val_loss: 6.0600e-04\n",
            "Epoch 86/200\n",
            "400/400 [==============================] - 1s 3ms/step - loss: 0.0010 - val_loss: 5.9549e-04\n",
            "Epoch 87/200\n",
            "400/400 [==============================] - 1s 3ms/step - loss: 0.0010 - val_loss: 5.9129e-04\n",
            "Epoch 88/200\n",
            "400/400 [==============================] - 1s 3ms/step - loss: 0.0010 - val_loss: 6.1020e-04\n",
            "Epoch 89/200\n",
            "400/400 [==============================] - 1s 3ms/step - loss: 0.0010 - val_loss: 6.0608e-04\n",
            "Epoch 90/200\n",
            "400/400 [==============================] - 1s 3ms/step - loss: 0.0010 - val_loss: 6.0012e-04\n",
            "Epoch 91/200\n",
            "400/400 [==============================] - 1s 3ms/step - loss: 0.0010 - val_loss: 6.1770e-04\n",
            "Epoch 92/200\n",
            "400/400 [==============================] - 1s 3ms/step - loss: 0.0010 - val_loss: 6.0390e-04\n",
            "Epoch 93/200\n",
            "400/400 [==============================] - 1s 3ms/step - loss: 0.0010 - val_loss: 5.8516e-04\n",
            "Epoch 94/200\n",
            "400/400 [==============================] - 1s 3ms/step - loss: 9.9218e-04 - val_loss: 5.9091e-04\n",
            "Epoch 95/200\n",
            "400/400 [==============================] - 1s 3ms/step - loss: 0.0010 - val_loss: 6.2254e-04\n",
            "Epoch 96/200\n",
            "400/400 [==============================] - 1s 3ms/step - loss: 0.0010 - val_loss: 5.8821e-04\n",
            "Epoch 97/200\n",
            "400/400 [==============================] - 1s 3ms/step - loss: 0.0010 - val_loss: 6.0710e-04\n",
            "Epoch 98/200\n",
            "400/400 [==============================] - 1s 3ms/step - loss: 0.0010 - val_loss: 5.9121e-04\n",
            "Epoch 99/200\n",
            "400/400 [==============================] - 1s 3ms/step - loss: 9.9006e-04 - val_loss: 5.9496e-04\n",
            "Epoch 100/200\n",
            "400/400 [==============================] - 1s 3ms/step - loss: 0.0010 - val_loss: 6.1083e-04\n",
            "Epoch 101/200\n",
            "400/400 [==============================] - 1s 3ms/step - loss: 0.0010 - val_loss: 6.4379e-04\n",
            "Epoch 102/200\n",
            "400/400 [==============================] - 1s 3ms/step - loss: 9.9065e-04 - val_loss: 5.9845e-04\n",
            "Epoch 103/200\n",
            "400/400 [==============================] - 1s 3ms/step - loss: 9.9720e-04 - val_loss: 5.8988e-04\n",
            "Epoch 104/200\n",
            "400/400 [==============================] - 1s 3ms/step - loss: 0.0010 - val_loss: 6.0385e-04\n",
            "Epoch 105/200\n",
            "400/400 [==============================] - 1s 3ms/step - loss: 0.0010 - val_loss: 5.8999e-04\n",
            "Epoch 106/200\n",
            "400/400 [==============================] - 1s 3ms/step - loss: 0.0010 - val_loss: 6.0841e-04\n",
            "Epoch 107/200\n",
            "400/400 [==============================] - 1s 3ms/step - loss: 9.9676e-04 - val_loss: 5.7582e-04\n",
            "Epoch 108/200\n",
            "400/400 [==============================] - 1s 3ms/step - loss: 0.0010 - val_loss: 6.0039e-04\n",
            "Epoch 109/200\n",
            "400/400 [==============================] - 1s 3ms/step - loss: 0.0010 - val_loss: 6.0969e-04\n",
            "Epoch 110/200\n",
            "400/400 [==============================] - 1s 3ms/step - loss: 9.9915e-04 - val_loss: 5.8853e-04\n",
            "Epoch 111/200\n",
            "400/400 [==============================] - 1s 3ms/step - loss: 9.8569e-04 - val_loss: 5.7681e-04\n",
            "Epoch 112/200\n",
            "400/400 [==============================] - 1s 3ms/step - loss: 0.0010 - val_loss: 5.8456e-04\n",
            "Epoch 113/200\n",
            "400/400 [==============================] - 1s 3ms/step - loss: 0.0010 - val_loss: 5.7870e-04\n",
            "Epoch 114/200\n",
            "400/400 [==============================] - 1s 3ms/step - loss: 9.8965e-04 - val_loss: 5.8207e-04\n",
            "Epoch 115/200\n",
            "400/400 [==============================] - 1s 3ms/step - loss: 9.9115e-04 - val_loss: 5.7975e-04\n",
            "Epoch 116/200\n",
            "400/400 [==============================] - 1s 3ms/step - loss: 9.9316e-04 - val_loss: 5.9888e-04\n",
            "Epoch 117/200\n",
            "400/400 [==============================] - 1s 3ms/step - loss: 9.9503e-04 - val_loss: 6.0424e-04\n",
            "Epoch 118/200\n",
            "400/400 [==============================] - 1s 3ms/step - loss: 9.9590e-04 - val_loss: 6.3134e-04\n",
            "Epoch 119/200\n",
            "400/400 [==============================] - 1s 3ms/step - loss: 9.7548e-04 - val_loss: 5.8071e-04\n",
            "Epoch 120/200\n",
            "400/400 [==============================] - 1s 3ms/step - loss: 0.0010 - val_loss: 5.8889e-04\n",
            "Epoch 121/200\n",
            "400/400 [==============================] - 1s 3ms/step - loss: 9.9078e-04 - val_loss: 5.9470e-04\n",
            "Epoch 122/200\n",
            "400/400 [==============================] - 1s 3ms/step - loss: 0.0010 - val_loss: 5.8899e-04\n",
            "Epoch 123/200\n",
            "400/400 [==============================] - 1s 3ms/step - loss: 0.0010 - val_loss: 5.9681e-04\n",
            "Epoch 124/200\n",
            "400/400 [==============================] - 1s 3ms/step - loss: 9.7868e-04 - val_loss: 5.8570e-04\n",
            "Epoch 125/200\n",
            "400/400 [==============================] - 1s 3ms/step - loss: 9.6965e-04 - val_loss: 5.8342e-04\n",
            "Epoch 126/200\n",
            "400/400 [==============================] - 1s 3ms/step - loss: 9.7862e-04 - val_loss: 5.9875e-04\n",
            "Epoch 127/200\n",
            "400/400 [==============================] - 1s 3ms/step - loss: 9.7475e-04 - val_loss: 5.7571e-04\n",
            "Epoch 128/200\n",
            "400/400 [==============================] - 1s 3ms/step - loss: 9.9473e-04 - val_loss: 5.6734e-04\n",
            "Epoch 129/200\n",
            "400/400 [==============================] - 1s 3ms/step - loss: 9.8256e-04 - val_loss: 5.8291e-04\n",
            "Epoch 130/200\n",
            "400/400 [==============================] - 1s 3ms/step - loss: 0.0010 - val_loss: 6.0147e-04\n",
            "Epoch 131/200\n",
            "400/400 [==============================] - 1s 3ms/step - loss: 9.9343e-04 - val_loss: 5.9013e-04\n",
            "Epoch 132/200\n",
            "400/400 [==============================] - 1s 3ms/step - loss: 9.9089e-04 - val_loss: 5.6580e-04\n",
            "Epoch 133/200\n",
            "400/400 [==============================] - 1s 3ms/step - loss: 9.7262e-04 - val_loss: 5.8323e-04\n",
            "Epoch 134/200\n",
            "400/400 [==============================] - 1s 3ms/step - loss: 9.9639e-04 - val_loss: 5.7658e-04\n",
            "Epoch 135/200\n",
            "400/400 [==============================] - 1s 3ms/step - loss: 9.7355e-04 - val_loss: 5.6980e-04\n",
            "Epoch 136/200\n",
            "400/400 [==============================] - 1s 3ms/step - loss: 9.8780e-04 - val_loss: 5.9293e-04\n",
            "Epoch 137/200\n",
            "400/400 [==============================] - 1s 3ms/step - loss: 9.9342e-04 - val_loss: 5.7866e-04\n",
            "Epoch 138/200\n",
            "400/400 [==============================] - 1s 3ms/step - loss: 9.7256e-04 - val_loss: 5.7675e-04\n",
            "Epoch 139/200\n",
            "400/400 [==============================] - 1s 3ms/step - loss: 0.0010 - val_loss: 5.7208e-04\n",
            "Epoch 140/200\n",
            "400/400 [==============================] - 1s 3ms/step - loss: 9.7019e-04 - val_loss: 5.7129e-04\n",
            "Epoch 141/200\n",
            "400/400 [==============================] - 1s 3ms/step - loss: 9.7118e-04 - val_loss: 5.9871e-04\n",
            "Epoch 142/200\n",
            "400/400 [==============================] - 1s 3ms/step - loss: 9.8205e-04 - val_loss: 5.5971e-04\n",
            "Epoch 143/200\n",
            "400/400 [==============================] - 1s 3ms/step - loss: 9.6233e-04 - val_loss: 5.9114e-04\n",
            "Epoch 144/200\n",
            "400/400 [==============================] - 1s 3ms/step - loss: 9.7487e-04 - val_loss: 5.6724e-04\n",
            "Epoch 145/200\n",
            "400/400 [==============================] - 1s 3ms/step - loss: 9.5933e-04 - val_loss: 5.7455e-04\n",
            "Epoch 146/200\n",
            "400/400 [==============================] - 1s 3ms/step - loss: 9.7777e-04 - val_loss: 5.6230e-04\n",
            "Epoch 147/200\n",
            "400/400 [==============================] - 1s 3ms/step - loss: 9.6288e-04 - val_loss: 5.8150e-04\n",
            "Epoch 148/200\n",
            "400/400 [==============================] - 1s 3ms/step - loss: 9.8846e-04 - val_loss: 5.8562e-04\n",
            "Epoch 149/200\n",
            "400/400 [==============================] - 1s 3ms/step - loss: 9.7141e-04 - val_loss: 5.6180e-04\n",
            "Epoch 150/200\n",
            "400/400 [==============================] - 1s 3ms/step - loss: 9.5833e-04 - val_loss: 5.9519e-04\n",
            "Epoch 151/200\n",
            "400/400 [==============================] - 1s 3ms/step - loss: 9.7143e-04 - val_loss: 5.7474e-04\n",
            "Epoch 152/200\n",
            "400/400 [==============================] - 1s 3ms/step - loss: 9.7457e-04 - val_loss: 5.9119e-04\n",
            "Epoch 153/200\n",
            "400/400 [==============================] - 1s 3ms/step - loss: 9.6530e-04 - val_loss: 5.7876e-04\n",
            "Epoch 154/200\n",
            "400/400 [==============================] - 1s 3ms/step - loss: 9.9576e-04 - val_loss: 5.8174e-04\n",
            "Epoch 155/200\n",
            "400/400 [==============================] - 1s 3ms/step - loss: 9.6195e-04 - val_loss: 5.9717e-04\n",
            "Epoch 156/200\n",
            "400/400 [==============================] - 1s 3ms/step - loss: 9.9979e-04 - val_loss: 6.1128e-04\n",
            "Epoch 157/200\n",
            "400/400 [==============================] - 1s 3ms/step - loss: 9.5056e-04 - val_loss: 5.5526e-04\n",
            "Epoch 158/200\n",
            "400/400 [==============================] - 1s 3ms/step - loss: 9.7297e-04 - val_loss: 5.9146e-04\n",
            "Epoch 159/200\n",
            "400/400 [==============================] - 1s 3ms/step - loss: 9.5970e-04 - val_loss: 5.7314e-04\n",
            "Epoch 160/200\n",
            "400/400 [==============================] - 1s 3ms/step - loss: 9.6508e-04 - val_loss: 5.5051e-04\n",
            "Epoch 161/200\n",
            "400/400 [==============================] - 1s 3ms/step - loss: 9.5939e-04 - val_loss: 5.6908e-04\n",
            "Epoch 162/200\n",
            "400/400 [==============================] - 1s 3ms/step - loss: 9.5542e-04 - val_loss: 5.5344e-04\n",
            "Epoch 163/200\n",
            "400/400 [==============================] - 1s 3ms/step - loss: 9.8163e-04 - val_loss: 5.6374e-04\n",
            "Epoch 164/200\n",
            "400/400 [==============================] - 1s 3ms/step - loss: 9.7734e-04 - val_loss: 5.5964e-04\n",
            "Epoch 165/200\n",
            "400/400 [==============================] - 1s 3ms/step - loss: 9.7060e-04 - val_loss: 5.6585e-04\n",
            "Epoch 166/200\n",
            "400/400 [==============================] - 1s 3ms/step - loss: 9.5835e-04 - val_loss: 5.6278e-04\n",
            "Epoch 167/200\n",
            "400/400 [==============================] - 1s 3ms/step - loss: 9.7651e-04 - val_loss: 5.8211e-04\n",
            "Epoch 168/200\n",
            "400/400 [==============================] - 1s 3ms/step - loss: 9.6872e-04 - val_loss: 5.7512e-04\n",
            "Epoch 169/200\n",
            "400/400 [==============================] - 1s 3ms/step - loss: 9.5597e-04 - val_loss: 5.6642e-04\n",
            "Epoch 170/200\n",
            "400/400 [==============================] - 1s 3ms/step - loss: 9.5801e-04 - val_loss: 5.5292e-04\n",
            "Epoch 171/200\n",
            "400/400 [==============================] - 1s 3ms/step - loss: 9.5730e-04 - val_loss: 5.7217e-04\n",
            "Epoch 172/200\n",
            "400/400 [==============================] - 1s 3ms/step - loss: 9.6742e-04 - val_loss: 5.4386e-04\n",
            "Epoch 173/200\n",
            "400/400 [==============================] - 1s 3ms/step - loss: 9.5283e-04 - val_loss: 5.6149e-04\n",
            "Epoch 174/200\n",
            "400/400 [==============================] - 1s 3ms/step - loss: 9.4580e-04 - val_loss: 5.7502e-04\n",
            "Epoch 175/200\n",
            "400/400 [==============================] - 1s 3ms/step - loss: 9.6585e-04 - val_loss: 5.5718e-04\n",
            "Epoch 176/200\n",
            "400/400 [==============================] - 1s 3ms/step - loss: 9.4025e-04 - val_loss: 5.4837e-04\n",
            "Epoch 177/200\n",
            "400/400 [==============================] - 1s 3ms/step - loss: 9.3862e-04 - val_loss: 5.5423e-04\n",
            "Epoch 178/200\n",
            "400/400 [==============================] - 1s 3ms/step - loss: 9.3921e-04 - val_loss: 5.5963e-04\n",
            "Epoch 179/200\n",
            "400/400 [==============================] - 1s 3ms/step - loss: 9.5996e-04 - val_loss: 5.7601e-04\n",
            "Epoch 180/200\n",
            "400/400 [==============================] - 1s 3ms/step - loss: 9.4904e-04 - val_loss: 5.5326e-04\n",
            "Epoch 181/200\n",
            "400/400 [==============================] - 1s 3ms/step - loss: 9.3612e-04 - val_loss: 5.6194e-04\n",
            "Epoch 182/200\n",
            "400/400 [==============================] - 1s 3ms/step - loss: 9.6346e-04 - val_loss: 5.5079e-04\n",
            "Epoch 183/200\n",
            "400/400 [==============================] - 1s 3ms/step - loss: 9.4580e-04 - val_loss: 5.6263e-04\n",
            "Epoch 184/200\n",
            "400/400 [==============================] - 1s 3ms/step - loss: 9.4534e-04 - val_loss: 5.5408e-04\n",
            "Epoch 185/200\n",
            "400/400 [==============================] - 1s 3ms/step - loss: 9.3332e-04 - val_loss: 5.5420e-04\n",
            "Epoch 186/200\n",
            "400/400 [==============================] - 1s 3ms/step - loss: 9.5875e-04 - val_loss: 5.5029e-04\n",
            "Epoch 187/200\n",
            "400/400 [==============================] - 1s 3ms/step - loss: 9.3649e-04 - val_loss: 5.6682e-04\n",
            "Epoch 188/200\n",
            "400/400 [==============================] - 1s 3ms/step - loss: 9.6010e-04 - val_loss: 5.4801e-04\n",
            "Epoch 189/200\n",
            "400/400 [==============================] - 1s 3ms/step - loss: 9.3427e-04 - val_loss: 5.6383e-04\n",
            "Epoch 190/200\n",
            "400/400 [==============================] - 1s 3ms/step - loss: 9.4475e-04 - val_loss: 5.8938e-04\n",
            "Epoch 191/200\n",
            "400/400 [==============================] - 1s 3ms/step - loss: 9.3599e-04 - val_loss: 5.6473e-04\n",
            "Epoch 192/200\n",
            "400/400 [==============================] - 1s 3ms/step - loss: 9.4453e-04 - val_loss: 5.5790e-04\n",
            "Epoch 193/200\n",
            "400/400 [==============================] - 1s 3ms/step - loss: 9.3884e-04 - val_loss: 5.6896e-04\n",
            "Epoch 194/200\n",
            "400/400 [==============================] - 1s 3ms/step - loss: 9.3142e-04 - val_loss: 5.4465e-04\n",
            "Epoch 195/200\n",
            "400/400 [==============================] - 1s 3ms/step - loss: 9.4118e-04 - val_loss: 5.4698e-04\n",
            "Epoch 196/200\n",
            "400/400 [==============================] - 1s 3ms/step - loss: 9.3523e-04 - val_loss: 5.3923e-04\n",
            "Epoch 197/200\n",
            "400/400 [==============================] - 1s 3ms/step - loss: 9.2724e-04 - val_loss: 5.5423e-04\n",
            "Epoch 198/200\n",
            "400/400 [==============================] - 1s 3ms/step - loss: 9.3135e-04 - val_loss: 5.6469e-04\n",
            "Epoch 199/200\n",
            "400/400 [==============================] - 1s 3ms/step - loss: 9.4685e-04 - val_loss: 5.5086e-04\n",
            "Epoch 200/200\n",
            "400/400 [==============================] - 1s 3ms/step - loss: 9.3537e-04 - val_loss: 5.6024e-04\n",
            "Model: \"sequential\"\n",
            "_________________________________________________________________\n",
            "Layer (type)                 Output Shape              Param #   \n",
            "=================================================================\n",
            "lstm (LSTM)                  (None, 100)               50400     \n",
            "_________________________________________________________________\n",
            "dropout (Dropout)            (None, 100)               0         \n",
            "_________________________________________________________________\n",
            "dense (Dense)                (None, 1)                 101       \n",
            "=================================================================\n",
            "Total params: 50,501\n",
            "Trainable params: 50,501\n",
            "Non-trainable params: 0\n",
            "_________________________________________________________________\n"
          ],
          "name": "stdout"
        }
      ]
    },
    {
      "cell_type": "code",
      "metadata": {
        "colab": {
          "base_uri": "https://localhost:8080/"
        },
        "id": "q6387_UdLLQZ",
        "outputId": "e403cb12-729e-4ba8-a7a9-4bd3aa342720"
      },
      "source": [
        "train_predict = model.predict(X_train)\n",
        "test_predict = model.predict(X_test)\n",
        "# invert predictions\n",
        "train_predict = scaler.inverse_transform(train_predict)\n",
        "Y_train = scaler.inverse_transform([Y_train])\n",
        "test_predict = scaler.inverse_transform(test_predict)\n",
        "Y_test = scaler.inverse_transform([Y_test])\n",
        "print('Train Mean Absolute Error:', mean_absolute_error(Y_train[0], train_predict[:,0]))\n",
        "print('Train Root Mean Squared Error:',np.sqrt(mean_squared_error(Y_train[0], train_predict[:,0])))\n",
        "print('Test Mean Absolute Error:', mean_absolute_error(Y_test[0], test_predict[:,0]))\n",
        "print('Test Root Mean Squared Error:',np.sqrt(mean_squared_error(Y_test[0], test_predict[:,0])))"
      ],
      "execution_count": 29,
      "outputs": [
        {
          "output_type": "stream",
          "text": [
            "Train Mean Absolute Error: 362.22221408243075\n",
            "Train Root Mean Squared Error: 577.2988420486105\n",
            "Test Mean Absolute Error: 346.68498701892605\n",
            "Test Root Mean Squared Error: 543.7821501662205\n"
          ],
          "name": "stdout"
        }
      ]
    },
    {
      "cell_type": "code",
      "metadata": {
        "colab": {
          "base_uri": "https://localhost:8080/"
        },
        "id": "8SIsRhPJLPgu",
        "outputId": "ce417b1b-1b2f-4749-d459-7623495a3548"
      },
      "source": [
        "mape_train = np.mean(np.abs((Y_train[0] - train_predict[:,0]) / Y_train[0])) * 100\n",
        "mape_test = np.mean(np.abs((Y_test[0] - test_predict[:,0]) / Y_test[0])) * 100\n",
        "\n",
        "print(\"Train MAPE: {}, Test MAPE: {}\".format(mape_train, mape_test))"
      ],
      "execution_count": 30,
      "outputs": [
        {
          "output_type": "stream",
          "text": [
            "Train MAPE: 1.2965792527853524, Test MAPE: 1.2273655588190517\n"
          ],
          "name": "stdout"
        }
      ]
    },
    {
      "cell_type": "code",
      "metadata": {
        "colab": {
          "base_uri": "https://localhost:8080/",
          "height": 300
        },
        "id": "WraKXkLMLQem",
        "outputId": "fd775607-99ce-4879-adf2-33aee32738fa"
      },
      "source": [
        "plt.figure(figsize=(8,4))\n",
        "plt.plot(history.history['loss'], label='Train Loss')\n",
        "plt.plot(history.history['val_loss'], label='Test Loss')\n",
        "plt.title('model loss')\n",
        "plt.ylabel('loss')\n",
        "plt.xlabel('epochs')\n",
        "plt.legend(loc='upper right')\n",
        "plt.show();"
      ],
      "execution_count": 31,
      "outputs": [
        {
          "output_type": "display_data",
          "data": {
            "image/png": "[encoded data removed]",
            "text/plain": [
              "<Figure size 576x288 with 1 Axes>"
            ]
          },
          "metadata": {
            "tags": [],
            "needs_background": "light"
          }
        }
      ]
    },
    {
      "cell_type": "code",
      "metadata": {
        "colab": {
          "base_uri": "https://localhost:8080/",
          "height": 316
        },
        "id": "3fmo2TElLUpe",
        "outputId": "8a2628b3-0ff6-450d-f635-7020fadb0ee8"
      },
      "source": [
        "idx = 200\n",
        "aa=[x for x in range(idx)]\n",
        "plt.figure(figsize=(8,4))\n",
        "plt.plot(aa, Y_test[0][:idx], marker='.', label=\"actual\")\n",
        "plt.plot(aa, test_predict[:,0][:idx], 'r', label=\"prediction\")\n",
        "# plt.tick_params(left=False, labelleft=True) #remove ticks\n",
        "plt.tight_layout()\n",
        "sns.despine(top=True)\n",
        "plt.subplots_adjust(left=0.07)\n",
        "plt.ylabel('TOTAL Load', size=15)\n",
        "plt.xlabel('Time step', size=15)\n",
        "plt.legend(fontsize=15)\n",
        "plt.show();"
      ],
      "execution_count": 32,
      "outputs": [
        {
          "output_type": "display_data",
          "data": {
            "image/png": "[encoded data removed]",
            "text/plain": [
              "<Figure size 576x288 with 1 Axes>"
            ]
          },
          "metadata": {
            "tags": [],
            "needs_background": "light"
          }
        }
      ]
    },
    {
      "cell_type": "markdown",
      "metadata": {
        "id": "wHRN4Sp1UMYV"
      },
      "source": [
        "###END OF CODE FROM KAGGLE\n",
        "\n",
        "### OUR CODE STARTS HERE"
      ]
    },
    {
      "cell_type": "markdown",
      "metadata": {
        "id": "Fah8471C0Xrs"
      },
      "source": [
        "## Import & Install PySpark"
      ]
    },
    {
      "cell_type": "code",
      "metadata": {
        "id": "aqcUxUVy0cm3",
        "colab": {
          "base_uri": "https://localhost:8080/"
        },
        "outputId": "9e08d3ca-314a-45cc-96e5-3230628ac253"
      },
      "source": [
        "!pip install pyspark"
      ],
      "execution_count": 1,
      "outputs": [
        {
          "output_type": "stream",
          "text": [
            "Collecting pyspark\n",
            "\u001b[?25l  Downloading https://files.pythonhosted.org/packages/45/b0/9d6860891ab14a39d4bddf80ba26ce51c2f9dc4805e5c6978ac0472c120a/pyspark-3.1.1.tar.gz (212.3MB)\n",
            "\u001b[K     |████████████████████████████████| 212.3MB 72kB/s \n",
            "\u001b[?25hCollecting py4j==0.10.9\n",
            "\u001b[?25l  Downloading https://files.pythonhosted.org/packages/9e/b6/6a4fb90cd235dc8e265a6a2067f2a2c99f0d91787f06aca4bcf7c23f3f80/py4j-0.10.9-py2.py3-none-any.whl (198kB)\n",
            "\u001b[K     |████████████████████████████████| 204kB 46.5MB/s \n",
            "\u001b[?25hBuilding wheels for collected packages: pyspark\n",
            "  Building wheel for pyspark (setup.py) ... \u001b[?25l\u001b[?25hdone\n",
            "  Created wheel for pyspark: filename=pyspark-3.1.1-py2.py3-none-any.whl size=212767604 sha256=eee41eb9465b45ad7dc01b8880efe8acfd749c171c40590e4c62db278ee2ed08\n",
            "  Stored in directory: /root/.cache/pip/wheels/0b/90/c0/01de724414ef122bd05f056541fb6a0ecf47c7ca655f8b3c0f\n",
            "Successfully built pyspark\n",
            "Installing collected packages: py4j, pyspark\n",
            "Successfully installed py4j-0.10.9 pyspark-3.1.1\n"
          ],
          "name": "stdout"
        }
      ]
    },
    {
      "cell_type": "code",
      "metadata": {
        "id": "Tq79Coox0rq-"
      },
      "source": [
        "import pyspark\n",
        "from pyspark.sql import SparkSession\n",
        "sc = pyspark.SparkContext('local[*]')"
      ],
      "execution_count": 2,
      "outputs": []
    },
    {
      "cell_type": "markdown",
      "metadata": {
        "id": "52jjSxfR6nrx"
      },
      "source": [
        "### pyspark.sql.SparkSession Main entry point for DataFrame and SQL functionality.\n",
        "#### The entry point to programming Spark with the Dataset and DataFrame API.\n",
        "\n",
        "A SparkSession can be used create DataFrame, register DataFrame as tables, execute SQL over tables, cache tables, and read parquet files. To create a SparkSession, use the following builder pattern:\n",
        "[Source](http://spark.apache.org/docs/latest/api/python/pyspark.sql.html#pyspark.sql.SparkSession)"
      ]
    },
    {
      "cell_type": "code",
      "metadata": {
        "id": "0pqKAw136bQi"
      },
      "source": [
        "spark = SparkSession.builder.master(\"local\").appName(\"cs5590\").config(\"spark.some.config.option\", \"some-value\").getOrCreate()"
      ],
      "execution_count": 3,
      "outputs": []
    },
    {
      "cell_type": "markdown",
      "metadata": {
        "id": "LVBa8Y0wUunZ"
      },
      "source": [
        "### Data frames of Energy and Weather data"
      ]
    },
    {
      "cell_type": "code",
      "metadata": {
        "id": "KM2vMozHVcgK"
      },
      "source": [
        "import pandas as pd   \n",
        "\n",
        "url = 'https://raw.githubusercontent.com/BillYerkes/CSEE5590_GroupProject/main/Data/energy_dataset.csv'\n",
        "pandaDF_Energy = pd.read_csv(url)"
      ],
      "execution_count": 56,
      "outputs": []
    },
    {
      "cell_type": "code",
      "metadata": {
        "colab": {
          "base_uri": "https://localhost:8080/"
        },
        "id": "audqdvmWRYmB",
        "outputId": "b4b48099-3ce6-4bba-e3af-5d2733208094"
      },
      "source": [
        "EnergyDF = spark.createDataFrame(pandaDF_Energy)\n",
        "EnergyDF.printSchema()\n",
        "EnergyDF.show()\n",
        "EnergyDF.count()\n"
      ],
      "execution_count": 57,
      "outputs": [
        {
          "output_type": "stream",
          "text": [
            "root\n",
            " |-- time: string (nullable = true)\n",
            " |-- generation biomass: double (nullable = true)\n",
            " |-- generation fossil brown coal/lignite: double (nullable = true)\n",
            " |-- generation fossil coal-derived gas: double (nullable = true)\n",
            " |-- generation fossil gas: double (nullable = true)\n",
            " |-- generation fossil hard coal: double (nullable = true)\n",
            " |-- generation fossil oil: double (nullable = true)\n",
            " |-- generation fossil oil shale: double (nullable = true)\n",
            " |-- generation fossil peat: double (nullable = true)\n",
            " |-- generation geothermal: double (nullable = true)\n",
            " |-- generation hydro pumped storage aggregated: double (nullable = true)\n",
            " |-- generation hydro pumped storage consumption: double (nullable = true)\n",
            " |-- generation hydro run-of-river and poundage: double (nullable = true)\n",
            " |-- generation hydro water reservoir: double (nullable = true)\n",
            " |-- generation marine: double (nullable = true)\n",
            " |-- generation nuclear: double (nullable = true)\n",
            " |-- generation other: double (nullable = true)\n",
            " |-- generation other renewable: double (nullable = true)\n",
            " |-- generation solar: double (nullable = true)\n",
            " |-- generation waste: double (nullable = true)\n",
            " |-- generation wind offshore: double (nullable = true)\n",
            " |-- generation wind onshore: double (nullable = true)\n",
            " |-- forecast solar day ahead: double (nullable = true)\n",
            " |-- forecast wind offshore eday ahead: double (nullable = true)\n",
            " |-- forecast wind onshore day ahead: double (nullable = true)\n",
            " |-- total load forecast: double (nullable = true)\n",
            " |-- total load actual: double (nullable = true)\n",
            " |-- price day ahead: double (nullable = true)\n",
            " |-- price actual: double (nullable = true)\n",
            "\n",
            "+--------------------+------------------+------------------------------------+----------------------------------+---------------------+---------------------------+---------------------+---------------------------+----------------------+---------------------+------------------------------------------+-------------------------------------------+------------------------------------------+--------------------------------+-----------------+------------------+----------------+--------------------------+----------------+----------------+------------------------+-----------------------+------------------------+---------------------------------+-------------------------------+-------------------+-----------------+---------------+------------+\n",
            "|                time|generation biomass|generation fossil brown coal/lignite|generation fossil coal-derived gas|generation fossil gas|generation fossil hard coal|generation fossil oil|generation fossil oil shale|generation fossil peat|generation geothermal|generation hydro pumped storage aggregated|generation hydro pumped storage consumption|generation hydro run-of-river and poundage|generation hydro water reservoir|generation marine|generation nuclear|generation other|generation other renewable|generation solar|generation waste|generation wind offshore|generation wind onshore|forecast solar day ahead|forecast wind offshore eday ahead|forecast wind onshore day ahead|total load forecast|total load actual|price day ahead|price actual|\n",
            "+--------------------+------------------+------------------------------------+----------------------------------+---------------------+---------------------------+---------------------+---------------------------+----------------------+---------------------+------------------------------------------+-------------------------------------------+------------------------------------------+--------------------------------+-----------------+------------------+----------------+--------------------------+----------------+----------------+------------------------+-----------------------+------------------------+---------------------------------+-------------------------------+-------------------+-----------------+---------------+------------+\n",
            "|2015-01-01 00:00:...|             447.0|                               329.0|                               0.0|               4844.0|                     4821.0|                162.0|                        0.0|                   0.0|                  0.0|                                       NaN|                                      863.0|                                    1051.0|                          1899.0|              0.0|            7096.0|            43.0|                      73.0|            49.0|           196.0|                     0.0|                 6378.0|                    17.0|                              NaN|                         6436.0|            26118.0|          25385.0|           50.1|       65.41|\n",
            "|2015-01-01 01:00:...|             449.0|                               328.0|                               0.0|               5196.0|                     4755.0|                158.0|                        0.0|                   0.0|                  0.0|                                       NaN|                                      920.0|                                    1009.0|                          1658.0|              0.0|            7096.0|            43.0|                      71.0|            50.0|           195.0|                     0.0|                 5890.0|                    16.0|                              NaN|                         5856.0|            24934.0|          24382.0|           48.1|       64.92|\n",
            "|2015-01-01 02:00:...|             448.0|                               323.0|                               0.0|               4857.0|                     4581.0|                157.0|                        0.0|                   0.0|                  0.0|                                       NaN|                                     1164.0|                                     973.0|                          1371.0|              0.0|            7099.0|            43.0|                      73.0|            50.0|           196.0|                     0.0|                 5461.0|                     8.0|                              NaN|                         5454.0|            23515.0|          22734.0|          47.33|       64.48|\n",
            "|2015-01-01 03:00:...|             438.0|                               254.0|                               0.0|               4314.0|                     4131.0|                160.0|                        0.0|                   0.0|                  0.0|                                       NaN|                                     1503.0|                                     949.0|                           779.0|              0.0|            7098.0|            43.0|                      75.0|            50.0|           191.0|                     0.0|                 5238.0|                     2.0|                              NaN|                         5151.0|            22642.0|          21286.0|          42.27|       59.32|\n",
            "|2015-01-01 04:00:...|             428.0|                               187.0|                               0.0|               4130.0|                     3840.0|                156.0|                        0.0|                   0.0|                  0.0|                                       NaN|                                     1826.0|                                     953.0|                           720.0|              0.0|            7097.0|            43.0|                      74.0|            42.0|           189.0|                     0.0|                 4935.0|                     9.0|                              NaN|                         4861.0|            21785.0|          20264.0|          38.41|       56.04|\n",
            "|2015-01-01 05:00:...|             410.0|                               178.0|                               0.0|               4038.0|                     3590.0|                156.0|                        0.0|                   0.0|                  0.0|                                       NaN|                                     2109.0|                                     952.0|                           743.0|              0.0|            7098.0|            43.0|                      74.0|            34.0|           188.0|                     0.0|                 4618.0|                     4.0|                              NaN|                         4617.0|            21441.0|          19905.0|          35.72|       53.63|\n",
            "|2015-01-01 06:00:...|             401.0|                               172.0|                               0.0|               4040.0|                     3368.0|                158.0|                        0.0|                   0.0|                  0.0|                                       NaN|                                     2108.0|                                     961.0|                           848.0|              0.0|            7098.0|            43.0|                      74.0|            34.0|           186.0|                     0.0|                 4397.0|                     3.0|                              NaN|                         4276.0|            21285.0|          20010.0|          35.13|       51.73|\n",
            "|2015-01-01 07:00:...|             408.0|                               172.0|                               0.0|               4030.0|                     3208.0|                160.0|                        0.0|                   0.0|                  0.0|                                       NaN|                                     2031.0|                                     983.0|                          1012.0|              0.0|            7099.0|            43.0|                      72.0|            35.0|           189.0|                     0.0|                 3992.0|                    12.0|                              NaN|                         3994.0|            21545.0|          20377.0|          36.22|       51.43|\n",
            "|2015-01-01 08:00:...|             413.0|                               177.0|                               0.0|               4052.0|                     3335.0|                161.0|                        0.0|                   0.0|                  0.0|                                       NaN|                                     2119.0|                                    1001.0|                          1015.0|              0.0|            7098.0|            43.0|                      73.0|            54.0|           198.0|                     0.0|                 3629.0|                    39.0|                              NaN|                         3602.0|            21443.0|          20094.0|           32.4|       48.98|\n",
            "|2015-01-01 09:00:...|             419.0|                               177.0|                               0.0|               4137.0|                     3437.0|                163.0|                        0.0|                   0.0|                  0.0|                                       NaN|                                     2170.0|                                    1041.0|                          1357.0|              0.0|            7097.0|            43.0|                      74.0|           743.0|           198.0|                     0.0|                 3073.0|                   784.0|                              NaN|                         3212.0|            21560.0|          20637.0|           36.6|        54.2|\n",
            "|2015-01-01 10:00:...|             422.0|                               173.0|                               0.0|               4059.0|                     3516.0|                167.0|                        0.0|                   0.0|                  0.0|                                       NaN|                                     2020.0|                                    1041.0|                          1817.0|              0.0|            7096.0|            43.0|                      72.0|          2019.0|           204.0|                     0.0|                 2683.0|                  1996.0|                              NaN|                         2617.0|            22824.0|          22250.0|           43.1|       58.94|\n",
            "|2015-01-01 11:00:...|             421.0|                               226.0|                               0.0|               3931.0|                     3845.0|                166.0|                        0.0|                   0.0|                  0.0|                                       NaN|                                     1183.0|                                    1069.0|                          1516.0|              0.0|            7097.0|            42.0|                      73.0|          3197.0|           206.0|                     0.0|                 2771.0|                  2990.0|                              NaN|                         2450.0|            23720.0|          23547.0|          45.14|       59.86|\n",
            "|2015-01-01 12:00:...|             428.0|                               303.0|                               0.0|               3784.0|                     4220.0|                167.0|                        0.0|                   0.0|                  0.0|                                       NaN|                                      972.0|                                    1052.0|                          1204.0|              0.0|            7097.0|            41.0|                      75.0|          3885.0|           209.0|                     0.0|                 2906.0|                  3842.0|                              NaN|                         2819.0|            24180.0|          24133.0|          45.14|       60.12|\n",
            "|2015-01-01 13:00:...|             425.0|                               288.0|                               0.0|               3754.0|                     4404.0|                167.0|                        0.0|                   0.0|                  0.0|                                       NaN|                                      922.0|                                    1041.0|                          1286.0|              0.0|            7099.0|            40.0|                      74.0|          4007.0|           210.0|                     0.0|                 2923.0|                  3812.0|                              NaN|                         2830.0|            24797.0|          24713.0|          47.35|       62.05|\n",
            "|2015-01-01 14:00:...|             423.0|                               260.0|                               0.0|               3779.0|                     4256.0|                166.0|                        0.0|                   0.0|                  0.0|                                       NaN|                                      941.0|                                    1028.0|                          1027.0|              0.0|            7097.0|            40.0|                      76.0|          3973.0|           210.0|                     0.0|                 2945.0|                  3699.0|                              NaN|                         2851.0|            25222.0|          24672.0|          47.35|       62.06|\n",
            "|2015-01-01 15:00:...|             421.0|                               183.0|                               0.0|               3708.0|                     4038.0|                160.0|                        0.0|                   0.0|                  0.0|                                       NaN|                                     1069.0|                                    1023.0|                          1151.0|              0.0|            7096.0|            40.0|                      76.0|          3818.0|           210.0|                     0.0|                 2709.0|                  3369.0|                              NaN|                         2822.0|            24173.0|          23528.0|          43.61|       59.76|\n",
            "|2015-01-01 16:00:...|             422.0|                               256.0|                               0.0|               3813.0|                     4191.0|                163.0|                        0.0|                   0.0|                  0.0|                                       NaN|                                      970.0|                                    1032.0|                          1156.0|              0.0|            7095.0|            41.0|                      75.0|          3088.0|           211.0|                     0.0|                 2552.0|                  2615.0|                              NaN|                         2562.0|            23659.0|          23118.0|          44.91|       61.18|\n",
            "|2015-01-01 17:00:...|             426.0|                               322.0|                               0.0|               3967.0|                     4707.0|                165.0|                        0.0|                   0.0|                  0.0|                                       NaN|                                      798.0|                                    1036.0|                          1626.0|              0.0|            7095.0|            41.0|                      75.0|          1467.0|           208.0|                     0.0|                 2699.0|                  1387.0|                              NaN|                         2578.0|            23982.0|          23606.0|           48.1|       64.74|\n",
            "|2015-01-01 18:00:...|             427.0|                               282.0|                               0.0|               4756.0|                     4756.0|                164.0|                        0.0|                   0.0|                  0.0|                                       NaN|                                        1.0|                                    1094.0|                          3203.0|              0.0|            7096.0|            42.0|                      74.0|           404.0|           209.0|                     0.0|                 2764.0|                   399.0|                              NaN|                         2824.0|            26981.0|          26447.0|          58.02|       74.26|\n",
            "|2015-01-01 19:00:...|             442.0|                               303.0|                               0.0|               4410.0|                     4918.0|                147.0|                        0.0|                   0.0|                  0.0|                                       NaN|                                        1.0|                                    1153.0|                          5333.0|              0.0|            7096.0|            42.0|                      76.0|           139.0|           208.0|                     0.0|                 2913.0|                   100.0|                              NaN|                         2801.0|            28515.0|          28020.0|          61.01|       74.24|\n",
            "+--------------------+------------------+------------------------------------+----------------------------------+---------------------+---------------------------+---------------------+---------------------------+----------------------+---------------------+------------------------------------------+-------------------------------------------+------------------------------------------+--------------------------------+-----------------+------------------+----------------+--------------------------+----------------+----------------+------------------------+-----------------------+------------------------+---------------------------------+-------------------------------+-------------------+-----------------+---------------+------------+\n",
            "only showing top 20 rows\n",
            "\n"
          ],
          "name": "stdout"
        },
        {
          "output_type": "execute_result",
          "data": {
            "text/plain": [
              "35064"
            ]
          },
          "metadata": {
            "tags": []
          },
          "execution_count": 57
        }
      ]
    },
    {
      "cell_type": "markdown",
      "metadata": {
        "id": "g6JIO2Zi-nu5"
      },
      "source": [
        "This is a test comment"
      ]
    },
    {
      "cell_type": "code",
      "metadata": {
        "id": "CHPS2YbbYhfC"
      },
      "source": [
        "url = 'https://raw.githubusercontent.com/BillYerkes/CSEE5590_GroupProject/main/Data/weather_features.csv'\n",
        "pandaDF_Weather = pd.read_csv(url)"
      ],
      "execution_count": 58,
      "outputs": []
    },
    {
      "cell_type": "code",
      "metadata": {
        "colab": {
          "base_uri": "https://localhost:8080/"
        },
        "id": "I7WAdM_iUC05",
        "outputId": "97fabbc1-6fab-46ab-9a65-45834d9f5bd0"
      },
      "source": [
        "WeatherDF = spark.createDataFrame(pandaDF_Weather)\n",
        "WeatherDF.printSchema()\n",
        "WeatherDF.show()\n",
        "WeatherDF.count()\n"
      ],
      "execution_count": 59,
      "outputs": [
        {
          "output_type": "stream",
          "text": [
            "root\n",
            " |-- dt_iso: string (nullable = true)\n",
            " |-- city_name: string (nullable = true)\n",
            " |-- temp: double (nullable = true)\n",
            " |-- temp_min: double (nullable = true)\n",
            " |-- temp_max: double (nullable = true)\n",
            " |-- pressure: long (nullable = true)\n",
            " |-- humidity: long (nullable = true)\n",
            " |-- wind_speed: long (nullable = true)\n",
            " |-- wind_deg: long (nullable = true)\n",
            " |-- rain_1h: double (nullable = true)\n",
            " |-- rain_3h: double (nullable = true)\n",
            " |-- snow_3h: double (nullable = true)\n",
            " |-- clouds_all: long (nullable = true)\n",
            " |-- weather_id: long (nullable = true)\n",
            " |-- weather_main: string (nullable = true)\n",
            " |-- weather_description: string (nullable = true)\n",
            " |-- weather_icon: string (nullable = true)\n",
            "\n",
            "+--------------------+---------+------------------+------------------+------------------+--------+--------+----------+--------+-------+-------+-------+----------+----------+------------+-------------------+------------+\n",
            "|              dt_iso|city_name|              temp|          temp_min|          temp_max|pressure|humidity|wind_speed|wind_deg|rain_1h|rain_3h|snow_3h|clouds_all|weather_id|weather_main|weather_description|weather_icon|\n",
            "+--------------------+---------+------------------+------------------+------------------+--------+--------+----------+--------+-------+-------+-------+----------+----------+------------+-------------------+------------+\n",
            "|2015-01-01 00:00:...| Valencia|           270.475|           270.475|           270.475|    1001|      77|         1|      62|    0.0|    0.0|    0.0|         0|       800|       clear|       sky is clear|         01n|\n",
            "|2015-01-01 01:00:...| Valencia|           270.475|           270.475|           270.475|    1001|      77|         1|      62|    0.0|    0.0|    0.0|         0|       800|       clear|       sky is clear|         01n|\n",
            "|2015-01-01 02:00:...| Valencia|           269.686|           269.686|           269.686|    1002|      78|         0|      23|    0.0|    0.0|    0.0|         0|       800|       clear|       sky is clear|         01n|\n",
            "|2015-01-01 03:00:...| Valencia|           269.686|           269.686|           269.686|    1002|      78|         0|      23|    0.0|    0.0|    0.0|         0|       800|       clear|       sky is clear|         01n|\n",
            "|2015-01-01 04:00:...| Valencia|           269.686|           269.686|           269.686|    1002|      78|         0|      23|    0.0|    0.0|    0.0|         0|       800|       clear|       sky is clear|         01n|\n",
            "|2015-01-01 05:00:...| Valencia|270.29200000000003|270.29200000000003|270.29200000000003|    1004|      71|         2|     321|    0.0|    0.0|    0.0|         0|       800|       clear|       sky is clear|         01n|\n",
            "|2015-01-01 06:00:...| Valencia|270.29200000000003|270.29200000000003|270.29200000000003|    1004|      71|         2|     321|    0.0|    0.0|    0.0|         0|       800|       clear|       sky is clear|         01n|\n",
            "|2015-01-01 07:00:...| Valencia|270.29200000000003|270.29200000000003|270.29200000000003|    1004|      71|         2|     321|    0.0|    0.0|    0.0|         0|       800|       clear|       sky is clear|         01n|\n",
            "|2015-01-01 08:00:...| Valencia|           274.601|           274.601|           274.601|    1005|      71|         1|     307|    0.0|    0.0|    0.0|         0|       800|       clear|       sky is clear|         01d|\n",
            "|2015-01-01 09:00:...| Valencia|           274.601|           274.601|           274.601|    1005|      71|         1|     307|    0.0|    0.0|    0.0|         0|       800|       clear|       sky is clear|         01d|\n",
            "|2015-01-01 10:00:...| Valencia|           274.601|           274.601|           274.601|    1005|      71|         1|     307|    0.0|    0.0|    0.0|         0|       800|       clear|       sky is clear|         01d|\n",
            "|2015-01-01 11:00:...| Valencia|           284.824|           284.824|           284.824|    1006|      55|         1|     255|    0.0|    0.0|    0.0|         0|       800|       clear|       sky is clear|         01d|\n",
            "|2015-01-01 12:00:...| Valencia|           284.824|           284.824|           284.824|    1006|      55|         1|     255|    0.0|    0.0|    0.0|         0|       800|       clear|       sky is clear|         01d|\n",
            "|2015-01-01 13:00:...| Valencia|           284.824|           284.824|           284.824|    1006|      55|         1|     255|    0.0|    0.0|    0.0|         0|       800|       clear|       sky is clear|         01d|\n",
            "|2015-01-01 14:00:...| Valencia|       285.0506563|       285.0506563|       285.0506563|    1015|      52|         1|     248|    0.0|    0.0|    0.0|         0|       800|       clear|       sky is clear|           1|\n",
            "|2015-01-01 15:00:...| Valencia|       285.2773438|       285.2773438|       285.2773438|    1025|      50|         1|     242|    0.0|    0.0|    0.0|         0|       800|       clear|       sky is clear|           1|\n",
            "|2015-01-01 16:00:...| Valencia|           281.024|           281.024|           281.024|    1021|      67|         1|     230|    0.0|    0.0|    0.0|         0|       800|       clear|       sky is clear|           1|\n",
            "|2015-01-01 17:00:...| Valencia|           282.744|           282.744|           282.744|    1035|      58|         1|     226|    0.0|    0.0|    0.0|         0|       800|       clear|       sky is clear|           1|\n",
            "|2015-01-01 18:00:...| Valencia|279.98400000000004|279.98400000000004|279.98400000000004|    1035|      68|         1|     216|    0.0|    0.0|    0.0|         0|       800|       clear|       sky is clear|           1|\n",
            "|2015-01-01 19:00:...| Valencia|       277.8761875|       277.8761875|       277.8761875|    1017|      69|         1|     235|    0.0|    0.0|    0.0|         0|       800|       clear|       sky is clear|           1|\n",
            "+--------------------+---------+------------------+------------------+------------------+--------+--------+----------+--------+-------+-------+-------+----------+----------+------------+-------------------+------------+\n",
            "only showing top 20 rows\n",
            "\n"
          ],
          "name": "stdout"
        },
        {
          "output_type": "execute_result",
          "data": {
            "text/plain": [
              "178396"
            ]
          },
          "metadata": {
            "tags": []
          },
          "execution_count": 59
        }
      ]
    },
    {
      "cell_type": "markdown",
      "metadata": {
        "id": "EW9chsQ7ZB2y"
      },
      "source": [
        "#Query to get count for each City"
      ]
    },
    {
      "cell_type": "code",
      "metadata": {
        "colab": {
          "base_uri": "https://localhost:8080/"
        },
        "id": "Qp89ucJ-bdOo",
        "outputId": "d6f398bd-b90d-4f04-f3f3-59c6a2e2232d"
      },
      "source": [
        "city = WeatherDF.select('city_name')\n",
        "\n",
        "city.printSchema()\n",
        "city.count()\n",
        "\n",
        "city.groupBy(\"city_name\").count().show()"
      ],
      "execution_count": 60,
      "outputs": [
        {
          "output_type": "stream",
          "text": [
            "root\n",
            " |-- city_name: string (nullable = true)\n",
            "\n",
            "+----------+-----+\n",
            "| city_name|count|\n",
            "+----------+-----+\n",
            "|    Madrid|36267|\n",
            "|   Seville|35557|\n",
            "| Barcelona|35476|\n",
            "|    Bilbao|35951|\n",
            "|  Valencia|35145|\n",
            "+----------+-----+\n",
            "\n"
          ],
          "name": "stdout"
        }
      ]
    },
    {
      "cell_type": "markdown",
      "metadata": {
        "id": "vca_VEHNZNmW"
      },
      "source": [
        ""
      ]
    },
    {
      "cell_type": "markdown",
      "metadata": {
        "id": "ie5RMSePZeO5"
      },
      "source": [
        "Convert String to Time stamp and pull out hour and minute offset"
      ]
    },
    {
      "cell_type": "code",
      "metadata": {
        "colab": {
          "base_uri": "https://localhost:8080/"
        },
        "id": "JgSPhedBWIrG",
        "outputId": "6ef8e36b-fe16-43eb-bffd-e76a04c20e36"
      },
      "source": [
        "import pyspark.sql.functions as f\n",
        "from pyspark.sql.functions import *\n",
        "\n",
        "EnergyDF = EnergyDF.withColumn('dtTimeStamp', to_timestamp(f.substring('time', 1,19), 'yyyy-MM-dd HH:mm:ss')) \\\n",
        "                   .withColumn('dtHourOffset', f.substring('time', 21,2)) \\\n",
        "                   .withColumn('dtMinuteOffset', f.substring('time', 24,2))\n",
        "\n",
        "WeatherDF = WeatherDF.withColumn('dtTimeStamp', to_timestamp(f.substring('dt_iso', 1,19), 'yyyy-MM-dd HH:mm:ss')) \\\n",
        "                     .withColumn('dtHourOffset', f.substring('dt_iso', 21,2)) \\\n",
        "                     .withColumn('dtMinuteOffset', f.substring('dt_iso', 24,2))\n",
        "\n",
        "EnergyDF.printSchema()                   "
      ],
      "execution_count": 61,
      "outputs": [
        {
          "output_type": "stream",
          "text": [
            "root\n",
            " |-- time: string (nullable = true)\n",
            " |-- generation biomass: double (nullable = true)\n",
            " |-- generation fossil brown coal/lignite: double (nullable = true)\n",
            " |-- generation fossil coal-derived gas: double (nullable = true)\n",
            " |-- generation fossil gas: double (nullable = true)\n",
            " |-- generation fossil hard coal: double (nullable = true)\n",
            " |-- generation fossil oil: double (nullable = true)\n",
            " |-- generation fossil oil shale: double (nullable = true)\n",
            " |-- generation fossil peat: double (nullable = true)\n",
            " |-- generation geothermal: double (nullable = true)\n",
            " |-- generation hydro pumped storage aggregated: double (nullable = true)\n",
            " |-- generation hydro pumped storage consumption: double (nullable = true)\n",
            " |-- generation hydro run-of-river and poundage: double (nullable = true)\n",
            " |-- generation hydro water reservoir: double (nullable = true)\n",
            " |-- generation marine: double (nullable = true)\n",
            " |-- generation nuclear: double (nullable = true)\n",
            " |-- generation other: double (nullable = true)\n",
            " |-- generation other renewable: double (nullable = true)\n",
            " |-- generation solar: double (nullable = true)\n",
            " |-- generation waste: double (nullable = true)\n",
            " |-- generation wind offshore: double (nullable = true)\n",
            " |-- generation wind onshore: double (nullable = true)\n",
            " |-- forecast solar day ahead: double (nullable = true)\n",
            " |-- forecast wind offshore eday ahead: double (nullable = true)\n",
            " |-- forecast wind onshore day ahead: double (nullable = true)\n",
            " |-- total load forecast: double (nullable = true)\n",
            " |-- total load actual: double (nullable = true)\n",
            " |-- price day ahead: double (nullable = true)\n",
            " |-- price actual: double (nullable = true)\n",
            " |-- dtTimeStamp: timestamp (nullable = true)\n",
            " |-- dtHourOffset: string (nullable = true)\n",
            " |-- dtMinuteOffset: string (nullable = true)\n",
            "\n"
          ],
          "name": "stdout"
        }
      ]
    },
    {
      "cell_type": "markdown",
      "metadata": {
        "id": "06XrvV_Ma9LK"
      },
      "source": [
        "Function so we can add offset back to time stamp\n",
        "\n",
        "We are saving it as a string, we will later convert it back to a timestamp"
      ]
    },
    {
      "cell_type": "code",
      "metadata": {
        "id": "7DOqiEDYaGRH"
      },
      "source": [
        "from datetime import datetime, timedelta\n",
        "format = \"%Y-%m-%d %H:%M:%S\"\n",
        "\n",
        "def addTimeOffset(v_date, v_hour, v_minute):\n",
        "  new_datetime = timedelta(minutes = int(v_minute), hours = int(v_hour))\n",
        "  return_dt = v_date + new_datetime\n",
        "  date_string = return_dt.strftime(format)\n",
        "  return date_string\n",
        "udfaddTimeOffset = f.udf(addTimeOffset, StringType())\n",
        "\n"
      ],
      "execution_count": 62,
      "outputs": []
    },
    {
      "cell_type": "code",
      "metadata": {
        "id": "AWf0BQHDqQ46"
      },
      "source": [
        "EnergyDF = EnergyDF.na.drop(subset=['total load actual'])\n"
      ],
      "execution_count": 65,
      "outputs": []
    },
    {
      "cell_type": "markdown",
      "metadata": {
        "id": "EOrkksL_bkj0"
      },
      "source": [
        "Add new timestamp to DF with offset added to them"
      ]
    },
    {
      "cell_type": "code",
      "metadata": {
        "colab": {
          "base_uri": "https://localhost:8080/"
        },
        "id": "G4Q_2l5YayeQ",
        "outputId": "7812f287-2aed-4e82-e041-8939ac601057"
      },
      "source": [
        "EnergyDF = EnergyDF.withColumn(\"interval\", udfaddTimeOffset(\"dtTimeStamp\",\"dtHourOffset\",\"dtMinuteOffset\"))\n",
        "EnergyDF = EnergyDF.withColumn('dtTimeStampUpdated', to_timestamp(\"interval\", 'yyyy-MM-dd HH:mm:ss'))\n",
        "\n",
        "WeatherDF = WeatherDF.withColumn(\"interval\", udfaddTimeOffset(\"dtTimeStamp\",\"dtHourOffset\",\"dtMinuteOffset\"))\n",
        "WeatherDF = WeatherDF.withColumn('dtTimeStampUpdated', to_timestamp(\"interval\", 'yyyy-MM-dd HH:mm:ss'))\n",
        "\n",
        "\n",
        "EnergyDF.select('dtTimeStamp','dtTimeStampUpdated').show()\n",
        "WeatherDF.select('dtTimeStamp','dtTimeStampUpdated').show()"
      ],
      "execution_count": 66,
      "outputs": [
        {
          "output_type": "stream",
          "text": [
            "+-------------------+-------------------+\n",
            "|        dtTimeStamp| dtTimeStampUpdated|\n",
            "+-------------------+-------------------+\n",
            "|2015-01-01 00:00:00|2015-01-01 01:00:00|\n",
            "|2015-01-01 01:00:00|2015-01-01 02:00:00|\n",
            "|2015-01-01 02:00:00|2015-01-01 03:00:00|\n",
            "|2015-01-01 03:00:00|2015-01-01 04:00:00|\n",
            "|2015-01-01 04:00:00|2015-01-01 05:00:00|\n",
            "|2015-01-01 05:00:00|2015-01-01 06:00:00|\n",
            "|2015-01-01 06:00:00|2015-01-01 07:00:00|\n",
            "|2015-01-01 07:00:00|2015-01-01 08:00:00|\n",
            "|2015-01-01 08:00:00|2015-01-01 09:00:00|\n",
            "|2015-01-01 09:00:00|2015-01-01 10:00:00|\n",
            "|2015-01-01 10:00:00|2015-01-01 11:00:00|\n",
            "|2015-01-01 11:00:00|2015-01-01 12:00:00|\n",
            "|2015-01-01 12:00:00|2015-01-01 13:00:00|\n",
            "|2015-01-01 13:00:00|2015-01-01 14:00:00|\n",
            "|2015-01-01 14:00:00|2015-01-01 15:00:00|\n",
            "|2015-01-01 15:00:00|2015-01-01 16:00:00|\n",
            "|2015-01-01 16:00:00|2015-01-01 17:00:00|\n",
            "|2015-01-01 17:00:00|2015-01-01 18:00:00|\n",
            "|2015-01-01 18:00:00|2015-01-01 19:00:00|\n",
            "|2015-01-01 19:00:00|2015-01-01 20:00:00|\n",
            "+-------------------+-------------------+\n",
            "only showing top 20 rows\n",
            "\n",
            "+-------------------+-------------------+\n",
            "|        dtTimeStamp| dtTimeStampUpdated|\n",
            "+-------------------+-------------------+\n",
            "|2015-01-01 00:00:00|2015-01-01 01:00:00|\n",
            "|2015-01-01 01:00:00|2015-01-01 02:00:00|\n",
            "|2015-01-01 02:00:00|2015-01-01 03:00:00|\n",
            "|2015-01-01 03:00:00|2015-01-01 04:00:00|\n",
            "|2015-01-01 04:00:00|2015-01-01 05:00:00|\n",
            "|2015-01-01 05:00:00|2015-01-01 06:00:00|\n",
            "|2015-01-01 06:00:00|2015-01-01 07:00:00|\n",
            "|2015-01-01 07:00:00|2015-01-01 08:00:00|\n",
            "|2015-01-01 08:00:00|2015-01-01 09:00:00|\n",
            "|2015-01-01 09:00:00|2015-01-01 10:00:00|\n",
            "|2015-01-01 10:00:00|2015-01-01 11:00:00|\n",
            "|2015-01-01 11:00:00|2015-01-01 12:00:00|\n",
            "|2015-01-01 12:00:00|2015-01-01 13:00:00|\n",
            "|2015-01-01 13:00:00|2015-01-01 14:00:00|\n",
            "|2015-01-01 14:00:00|2015-01-01 15:00:00|\n",
            "|2015-01-01 15:00:00|2015-01-01 16:00:00|\n",
            "|2015-01-01 16:00:00|2015-01-01 17:00:00|\n",
            "|2015-01-01 17:00:00|2015-01-01 18:00:00|\n",
            "|2015-01-01 18:00:00|2015-01-01 19:00:00|\n",
            "|2015-01-01 19:00:00|2015-01-01 20:00:00|\n",
            "+-------------------+-------------------+\n",
            "only showing top 20 rows\n",
            "\n"
          ],
          "name": "stdout"
        }
      ]
    },
    {
      "cell_type": "markdown",
      "metadata": {
        "id": "Y1mAMmgWhi4q"
      },
      "source": [
        "Grouping Data by time stamp,\n",
        "\n",
        "Averging Temp"
      ]
    },
    {
      "cell_type": "code",
      "metadata": {
        "id": "d7tLRM3phihR"
      },
      "source": [
        "\n",
        "\n",
        "WeatherTempDF = WeatherDF.groupBy('dtTimeStampUpdated').agg(f.avg(\"temp\").alias(\"Temp_avg\"))\n",
        "\n",
        "WeatherEnergyDF = WeatherTempDF.join(EnergyDF, on=['dtTimeStampUpdated'], how='inner')\n",
        "\n",
        "PandasWeatherEnergyDF = WeatherEnergyDF.toPandas()\n",
        "X = PandasWeatherEnergyDF[['Temp_avg']]\n",
        "y = PandasWeatherEnergyDF[['total load actual']]\n",
        "\n"
      ],
      "execution_count": 68,
      "outputs": []
    },
    {
      "cell_type": "code",
      "metadata": {
        "id": "JEbBfsoRo-7P"
      },
      "source": [
        "# importing libraries\n",
        "import numpy as np\n",
        "import pandas as pd\n",
        "from sklearn import linear_model\n",
        "import matplotlib.pyplot as plt\n",
        "\n",
        "%matplotlib inline"
      ],
      "execution_count": 70,
      "outputs": []
    },
    {
      "cell_type": "code",
      "metadata": {
        "colab": {
          "base_uri": "https://localhost:8080/"
        },
        "id": "SV_7isCeq-Q7",
        "outputId": "a0bacf2f-66da-4089-f121-d39e168220fc"
      },
      "source": [
        "\n",
        "WeatherEnergyDF.agg({'total load actual': 'max'}).show()\n"
      ],
      "execution_count": 69,
      "outputs": [
        {
          "output_type": "stream",
          "text": [
            "+----------------------+\n",
            "|max(total load actual)|\n",
            "+----------------------+\n",
            "|               41015.0|\n",
            "+----------------------+\n",
            "\n"
          ],
          "name": "stdout"
        }
      ]
    },
    {
      "cell_type": "code",
      "metadata": {
        "colab": {
          "base_uri": "https://localhost:8080/"
        },
        "id": "ZRlmx9C5ovs0",
        "outputId": "6c2231ad-6c7b-480e-da68-3da958a1872d"
      },
      "source": [
        "#train using the data\n",
        "body_reg = linear_model.LinearRegression()\n",
        "body_reg.fit(X,y)"
      ],
      "execution_count": 71,
      "outputs": [
        {
          "output_type": "execute_result",
          "data": {
            "text/plain": [
              "LinearRegression(copy_X=True, fit_intercept=True, n_jobs=None, normalize=False)"
            ]
          },
          "metadata": {
            "tags": []
          },
          "execution_count": 71
        }
      ]
    },
    {
      "cell_type": "code",
      "metadata": {
        "id": "9kgf8wfZu6gE"
      },
      "source": [
        "# parameters\n",
        "m =body_reg.coef_\n",
        "c =body_reg.intercept_"
      ],
      "execution_count": 72,
      "outputs": []
    },
    {
      "cell_type": "code",
      "metadata": {
        "colab": {
          "base_uri": "https://localhost:8080/",
          "height": 282
        },
        "id": "dhZmoqGtu8JQ",
        "outputId": "519832f0-e0e3-4c90-f373-7dc147348083"
      },
      "source": [
        "plt.scatter(X,y)\n",
        "plt.plot(X,body_reg.predict(X),color='Red')"
      ],
      "execution_count": 75,
      "outputs": [
        {
          "output_type": "execute_result",
          "data": {
            "text/plain": [
              "[<matplotlib.lines.Line2D at 0x7fa6dc0a7190>]"
            ]
          },
          "metadata": {
            "tags": []
          },
          "execution_count": 75
        },
        {
          "output_type": "display_data",
          "data": {
            "image/png": "[encoded data removed]",
            "text/plain": [
              "<Figure size 432x288 with 1 Axes>"
            ]
          },
          "metadata": {
            "tags": [],
            "needs_background": "light"
          }
        }
      ]
    },
    {
      "cell_type": "markdown",
      "metadata": {
        "id": "Al5RGCiGhBUQ"
      },
      "source": [
        "### Inner Join between the weather and energy dataframes"
      ]
    },
    {
      "cell_type": "code",
      "metadata": {
        "id": "jiMPtoVJv68b"
      },
      "source": [
        "\n",
        "WeatherEnergyDF = WeatherDF.join(EnergyDF, on=['dtTimeStampUpdated'], how='inner')\n"
      ],
      "execution_count": 26,
      "outputs": []
    },
    {
      "cell_type": "markdown",
      "metadata": {
        "id": "4p5wZKKxhMri"
      },
      "source": [
        "Perform a Linear Regression"
      ]
    },
    {
      "cell_type": "code",
      "metadata": {
        "colab": {
          "base_uri": "https://localhost:8080/",
          "height": 541
        },
        "id": "vd2NLi9dOg6O",
        "outputId": "cf0a1288-e368-4735-8e16-3d7a0eb7bd22"
      },
      "source": [
        "import pandas as pd\n",
        "import matplotlib.pyplot as plt\n",
        "df_plot = df_inner.toPandas()\n",
        "\n",
        "df_plot.plot(x=\"time\", y=[\"temp\"])\n",
        "plt.show()\n",
        "\n",
        "df_plot.plot(x=\"time\", y=[\"price actual\"])\n",
        "plt.show()"
      ],
      "execution_count": 11,
      "outputs": [
        {
          "output_type": "display_data",
          "data": {
            "image/png": "[encoded data removed]",
            "text/plain": [
              "<Figure size 432x288 with 1 Axes>"
            ]
          },
          "metadata": {
            "tags": [],
            "needs_background": "light"
          }
        },
        {
          "output_type": "display_data",
          "data": {
            "image/png": "[encoded data removed]",
            "text/plain": [
              "<Figure size 432x288 with 1 Axes>"
            ]
          },
          "metadata": {
            "tags": [],
            "needs_background": "light"
          }
        }
      ]
    },
    {
      "cell_type": "markdown",
      "metadata": {
        "id": "XpE9VHpPT1NE"
      },
      "source": [
        ""
      ]
    }
  ]
}