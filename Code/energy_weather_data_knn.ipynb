{
  "nbformat": 4,
  "nbformat_minor": 0,
  "metadata": {
    "colab": {
      "name": "energy_weather_data_knn.ipynb",
      "provenance": []
    },
    "kernelspec": {
      "name": "python3",
      "display_name": "Python 3"
    },
    "language_info": {
      "name": "python"
    }
  },
  "cells": [
    {
      "cell_type": "code",
      "metadata": {
        "colab": {
          "base_uri": "https://localhost:8080/"
        },
        "id": "w4PgK8-GS5c-",
        "outputId": "4736d51c-4f56-4480-dc58-1a7dba2a9047"
      },
      "source": [
        "pip install pyspark"
      ],
      "execution_count": null,
      "outputs": [
        {
          "output_type": "stream",
          "text": [
            "Collecting pyspark\n",
            "\u001b[?25l  Downloading https://files.pythonhosted.org/packages/45/b0/9d6860891ab14a39d4bddf80ba26ce51c2f9dc4805e5c6978ac0472c120a/pyspark-3.1.1.tar.gz (212.3MB)\n",
            "\u001b[K     |████████████████████████████████| 212.3MB 70kB/s \n",
            "\u001b[?25hCollecting py4j==0.10.9\n",
            "\u001b[?25l  Downloading https://files.pythonhosted.org/packages/9e/b6/6a4fb90cd235dc8e265a6a2067f2a2c99f0d91787f06aca4bcf7c23f3f80/py4j-0.10.9-py2.py3-none-any.whl (198kB)\n",
            "\u001b[K     |████████████████████████████████| 204kB 52.1MB/s \n",
            "\u001b[?25hBuilding wheels for collected packages: pyspark\n",
            "  Building wheel for pyspark (setup.py) ... \u001b[?25l\u001b[?25hdone\n",
            "  Created wheel for pyspark: filename=pyspark-3.1.1-py2.py3-none-any.whl size=212767604 sha256=7a7f10548f26b1392b3768752dbbe584378ee4151dd99d816a47a7a316fd30bb\n",
            "  Stored in directory: /root/.cache/pip/wheels/0b/90/c0/01de724414ef122bd05f056541fb6a0ecf47c7ca655f8b3c0f\n",
            "Successfully built pyspark\n",
            "Installing collected packages: py4j, pyspark\n",
            "Successfully installed py4j-0.10.9 pyspark-3.1.1\n"
          ],
          "name": "stdout"
        }
      ]
    },
    {
      "cell_type": "markdown",
      "metadata": {
        "id": "ScFHIgnjTWks"
      },
      "source": [
        "Now that pyspark is installed, we need to import the necessary libraries and create our Spark session\n",
        "\n",
        "*   List item\n",
        "*   List item\n",
        "\n"
      ]
    },
    {
      "cell_type": "code",
      "metadata": {
        "id": "x9yDpDhGVKK3"
      },
      "source": [
        "import pyspark\n",
        "from pyspark.sql import SparkSession\n",
        "from pyspark import SparkContext, SparkConf\n",
        "from pyspark.sql import *\n",
        "\n",
        "#create the session\n",
        "conf = SparkConf()\n",
        "\n",
        "#create the context\n",
        "sc = pyspark.SparkContext('local[*]')\n",
        "spark = SparkSession.builder.getOrCreate()"
      ],
      "execution_count": null,
      "outputs": []
    },
    {
      "cell_type": "markdown",
      "metadata": {
        "id": "fUxEbxgiUjTP"
      },
      "source": [
        "Next create our dataframes for the energy and weather datasets"
      ]
    },
    {
      "cell_type": "code",
      "metadata": {
        "id": "AMhjdE7fUrAW",
        "colab": {
          "base_uri": "https://localhost:8080/"
        },
        "outputId": "7ebe82c0-d8b0-4560-9d82-c2ff5f52060b"
      },
      "source": [
        "#inferSchema allows different datatypes\n",
        "energy_df = spark.read.csv('energy_dataset.csv', inferSchema=True, header=True)\n",
        "energy_df.show(10)\n",
        "\n",
        "weather_df = spark.read.csv('weather_features.csv', inferSchema=True, header=True)\n",
        "weather_df.show(10)\n"
      ],
      "execution_count": null,
      "outputs": [
        {
          "output_type": "stream",
          "text": [
            "+--------------------+------------------+------------------------------------+----------------------------------+---------------------+---------------------------+---------------------+---------------------------+----------------------+---------------------+------------------------------------------+-------------------------------------------+------------------------------------------+--------------------------------+-----------------+------------------+----------------+--------------------------+----------------+----------------+------------------------+-----------------------+------------------------+---------------------------------+-------------------------------+-------------------+-----------------+---------------+------------+\n",
            "|                time|generation biomass|generation fossil brown coal/lignite|generation fossil coal-derived gas|generation fossil gas|generation fossil hard coal|generation fossil oil|generation fossil oil shale|generation fossil peat|generation geothermal|generation hydro pumped storage aggregated|generation hydro pumped storage consumption|generation hydro run-of-river and poundage|generation hydro water reservoir|generation marine|generation nuclear|generation other|generation other renewable|generation solar|generation waste|generation wind offshore|generation wind onshore|forecast solar day ahead|forecast wind offshore eday ahead|forecast wind onshore day ahead|total load forecast|total load actual|price day ahead|price actual|\n",
            "+--------------------+------------------+------------------------------------+----------------------------------+---------------------+---------------------------+---------------------+---------------------------+----------------------+---------------------+------------------------------------------+-------------------------------------------+------------------------------------------+--------------------------------+-----------------+------------------+----------------+--------------------------+----------------+----------------+------------------------+-----------------------+------------------------+---------------------------------+-------------------------------+-------------------+-----------------+---------------+------------+\n",
            "|2015-01-01 00:00:...|             447.0|                               329.0|                               0.0|               4844.0|                     4821.0|                162.0|                        0.0|                   0.0|                  0.0|                                      null|                                      863.0|                                    1051.0|                          1899.0|              0.0|            7096.0|            43.0|                      73.0|            49.0|           196.0|                     0.0|                 6378.0|                    17.0|                             null|                         6436.0|            26118.0|          25385.0|           50.1|       65.41|\n",
            "|2015-01-01 01:00:...|             449.0|                               328.0|                               0.0|               5196.0|                     4755.0|                158.0|                        0.0|                   0.0|                  0.0|                                      null|                                      920.0|                                    1009.0|                          1658.0|              0.0|            7096.0|            43.0|                      71.0|            50.0|           195.0|                     0.0|                 5890.0|                    16.0|                             null|                         5856.0|            24934.0|          24382.0|           48.1|       64.92|\n",
            "|2015-01-01 02:00:...|             448.0|                               323.0|                               0.0|               4857.0|                     4581.0|                157.0|                        0.0|                   0.0|                  0.0|                                      null|                                     1164.0|                                     973.0|                          1371.0|              0.0|            7099.0|            43.0|                      73.0|            50.0|           196.0|                     0.0|                 5461.0|                     8.0|                             null|                         5454.0|            23515.0|          22734.0|          47.33|       64.48|\n",
            "|2015-01-01 03:00:...|             438.0|                               254.0|                               0.0|               4314.0|                     4131.0|                160.0|                        0.0|                   0.0|                  0.0|                                      null|                                     1503.0|                                     949.0|                           779.0|              0.0|            7098.0|            43.0|                      75.0|            50.0|           191.0|                     0.0|                 5238.0|                     2.0|                             null|                         5151.0|            22642.0|          21286.0|          42.27|       59.32|\n",
            "|2015-01-01 04:00:...|             428.0|                               187.0|                               0.0|               4130.0|                     3840.0|                156.0|                        0.0|                   0.0|                  0.0|                                      null|                                     1826.0|                                     953.0|                           720.0|              0.0|            7097.0|            43.0|                      74.0|            42.0|           189.0|                     0.0|                 4935.0|                     9.0|                             null|                         4861.0|            21785.0|          20264.0|          38.41|       56.04|\n",
            "|2015-01-01 05:00:...|             410.0|                               178.0|                               0.0|               4038.0|                     3590.0|                156.0|                        0.0|                   0.0|                  0.0|                                      null|                                     2109.0|                                     952.0|                           743.0|              0.0|            7098.0|            43.0|                      74.0|            34.0|           188.0|                     0.0|                 4618.0|                     4.0|                             null|                         4617.0|            21441.0|          19905.0|          35.72|       53.63|\n",
            "|2015-01-01 06:00:...|             401.0|                               172.0|                               0.0|               4040.0|                     3368.0|                158.0|                        0.0|                   0.0|                  0.0|                                      null|                                     2108.0|                                     961.0|                           848.0|              0.0|            7098.0|            43.0|                      74.0|            34.0|           186.0|                     0.0|                 4397.0|                     3.0|                             null|                         4276.0|            21285.0|          20010.0|          35.13|       51.73|\n",
            "|2015-01-01 07:00:...|             408.0|                               172.0|                               0.0|               4030.0|                     3208.0|                160.0|                        0.0|                   0.0|                  0.0|                                      null|                                     2031.0|                                     983.0|                          1012.0|              0.0|            7099.0|            43.0|                      72.0|            35.0|           189.0|                     0.0|                 3992.0|                    12.0|                             null|                         3994.0|            21545.0|          20377.0|          36.22|       51.43|\n",
            "|2015-01-01 08:00:...|             413.0|                               177.0|                               0.0|               4052.0|                     3335.0|                161.0|                        0.0|                   0.0|                  0.0|                                      null|                                     2119.0|                                    1001.0|                          1015.0|              0.0|            7098.0|            43.0|                      73.0|            54.0|           198.0|                     0.0|                 3629.0|                    39.0|                             null|                         3602.0|            21443.0|          20094.0|           32.4|       48.98|\n",
            "|2015-01-01 09:00:...|             419.0|                               177.0|                               0.0|               4137.0|                     3437.0|                163.0|                        0.0|                   0.0|                  0.0|                                      null|                                     2170.0|                                    1041.0|                          1357.0|              0.0|            7097.0|            43.0|                      74.0|           743.0|           198.0|                     0.0|                 3073.0|                   784.0|                             null|                         3212.0|            21560.0|          20637.0|           36.6|        54.2|\n",
            "+--------------------+------------------+------------------------------------+----------------------------------+---------------------+---------------------------+---------------------+---------------------------+----------------------+---------------------+------------------------------------------+-------------------------------------------+------------------------------------------+--------------------------------+-----------------+------------------+----------------+--------------------------+----------------+----------------+------------------------+-----------------------+------------------------+---------------------------------+-------------------------------+-------------------+-----------------+---------------+------------+\n",
            "only showing top 10 rows\n",
            "\n",
            "+--------------------+---------+------------------+------------------+------------------+--------+--------+----------+--------+-------+-------+-------+----------+----------+------------+-------------------+------------+\n",
            "|              dt_iso|city_name|              temp|          temp_min|          temp_max|pressure|humidity|wind_speed|wind_deg|rain_1h|rain_3h|snow_3h|clouds_all|weather_id|weather_main|weather_description|weather_icon|\n",
            "+--------------------+---------+------------------+------------------+------------------+--------+--------+----------+--------+-------+-------+-------+----------+----------+------------+-------------------+------------+\n",
            "|2015-01-01 00:00:...| Valencia|           270.475|           270.475|           270.475|    1001|      77|         1|      62|    0.0|    0.0|    0.0|         0|       800|       clear|       sky is clear|         01n|\n",
            "|2015-01-01 01:00:...| Valencia|           270.475|           270.475|           270.475|    1001|      77|         1|      62|    0.0|    0.0|    0.0|         0|       800|       clear|       sky is clear|         01n|\n",
            "|2015-01-01 02:00:...| Valencia|           269.686|           269.686|           269.686|    1002|      78|         0|      23|    0.0|    0.0|    0.0|         0|       800|       clear|       sky is clear|         01n|\n",
            "|2015-01-01 03:00:...| Valencia|           269.686|           269.686|           269.686|    1002|      78|         0|      23|    0.0|    0.0|    0.0|         0|       800|       clear|       sky is clear|         01n|\n",
            "|2015-01-01 04:00:...| Valencia|           269.686|           269.686|           269.686|    1002|      78|         0|      23|    0.0|    0.0|    0.0|         0|       800|       clear|       sky is clear|         01n|\n",
            "|2015-01-01 05:00:...| Valencia|270.29200000000003|270.29200000000003|270.29200000000003|    1004|      71|         2|     321|    0.0|    0.0|    0.0|         0|       800|       clear|       sky is clear|         01n|\n",
            "|2015-01-01 06:00:...| Valencia|270.29200000000003|270.29200000000003|270.29200000000003|    1004|      71|         2|     321|    0.0|    0.0|    0.0|         0|       800|       clear|       sky is clear|         01n|\n",
            "|2015-01-01 07:00:...| Valencia|270.29200000000003|270.29200000000003|270.29200000000003|    1004|      71|         2|     321|    0.0|    0.0|    0.0|         0|       800|       clear|       sky is clear|         01n|\n",
            "|2015-01-01 08:00:...| Valencia|           274.601|           274.601|           274.601|    1005|      71|         1|     307|    0.0|    0.0|    0.0|         0|       800|       clear|       sky is clear|         01d|\n",
            "|2015-01-01 09:00:...| Valencia|           274.601|           274.601|           274.601|    1005|      71|         1|     307|    0.0|    0.0|    0.0|         0|       800|       clear|       sky is clear|         01d|\n",
            "+--------------------+---------+------------------+------------------+------------------+--------+--------+----------+--------+-------+-------+-------+----------+----------+------------+-------------------+------------+\n",
            "only showing top 10 rows\n",
            "\n"
          ],
          "name": "stdout"
        }
      ]
    },
    {
      "cell_type": "markdown",
      "metadata": {
        "id": "IuwX0bWIhVxh"
      },
      "source": [
        "As we can see, the two dataframes have similar entries for the 'dt_iso' and 'time' columns. We want to join the energy and weather tables on this column so that we can look for correlations between the two datasets."
      ]
    },
    {
      "cell_type": "code",
      "metadata": {
        "colab": {
          "base_uri": "https://localhost:8080/"
        },
        "id": "mBADzZsEhhAR",
        "outputId": "8b3dc73e-6042-441c-8589-ec557d26fd00"
      },
      "source": [
        "combined_df = weather_df.join(energy_df, weather_df.dt_iso == energy_df.time, 'inner')\n",
        "combined_df.show(10)"
      ],
      "execution_count": null,
      "outputs": [
        {
          "output_type": "stream",
          "text": [
            "+--------------------+---------+------------------+------------------+------------------+--------+--------+----------+--------+-------+-------+-------+----------+----------+------------+-------------------+------------+--------------------+------------------+------------------------------------+----------------------------------+---------------------+---------------------------+---------------------+---------------------------+----------------------+---------------------+------------------------------------------+-------------------------------------------+------------------------------------------+--------------------------------+-----------------+------------------+----------------+--------------------------+----------------+----------------+------------------------+-----------------------+------------------------+---------------------------------+-------------------------------+-------------------+-----------------+---------------+------------+\n",
            "|              dt_iso|city_name|              temp|          temp_min|          temp_max|pressure|humidity|wind_speed|wind_deg|rain_1h|rain_3h|snow_3h|clouds_all|weather_id|weather_main|weather_description|weather_icon|                time|generation biomass|generation fossil brown coal/lignite|generation fossil coal-derived gas|generation fossil gas|generation fossil hard coal|generation fossil oil|generation fossil oil shale|generation fossil peat|generation geothermal|generation hydro pumped storage aggregated|generation hydro pumped storage consumption|generation hydro run-of-river and poundage|generation hydro water reservoir|generation marine|generation nuclear|generation other|generation other renewable|generation solar|generation waste|generation wind offshore|generation wind onshore|forecast solar day ahead|forecast wind offshore eday ahead|forecast wind onshore day ahead|total load forecast|total load actual|price day ahead|price actual|\n",
            "+--------------------+---------+------------------+------------------+------------------+--------+--------+----------+--------+-------+-------+-------+----------+----------+------------+-------------------+------------+--------------------+------------------+------------------------------------+----------------------------------+---------------------+---------------------------+---------------------+---------------------------+----------------------+---------------------+------------------------------------------+-------------------------------------------+------------------------------------------+--------------------------------+-----------------+------------------+----------------+--------------------------+----------------+----------------+------------------------+-----------------------+------------------------+---------------------------------+-------------------------------+-------------------+-----------------+---------------+------------+\n",
            "|2015-01-01 00:00:...| Valencia|           270.475|           270.475|           270.475|    1001|      77|         1|      62|    0.0|    0.0|    0.0|         0|       800|       clear|       sky is clear|         01n|2015-01-01 00:00:...|             447.0|                               329.0|                               0.0|               4844.0|                     4821.0|                162.0|                        0.0|                   0.0|                  0.0|                                      null|                                      863.0|                                    1051.0|                          1899.0|              0.0|            7096.0|            43.0|                      73.0|            49.0|           196.0|                     0.0|                 6378.0|                    17.0|                             null|                         6436.0|            26118.0|          25385.0|           50.1|       65.41|\n",
            "|2015-01-01 01:00:...| Valencia|           270.475|           270.475|           270.475|    1001|      77|         1|      62|    0.0|    0.0|    0.0|         0|       800|       clear|       sky is clear|         01n|2015-01-01 01:00:...|             449.0|                               328.0|                               0.0|               5196.0|                     4755.0|                158.0|                        0.0|                   0.0|                  0.0|                                      null|                                      920.0|                                    1009.0|                          1658.0|              0.0|            7096.0|            43.0|                      71.0|            50.0|           195.0|                     0.0|                 5890.0|                    16.0|                             null|                         5856.0|            24934.0|          24382.0|           48.1|       64.92|\n",
            "|2015-01-01 02:00:...| Valencia|           269.686|           269.686|           269.686|    1002|      78|         0|      23|    0.0|    0.0|    0.0|         0|       800|       clear|       sky is clear|         01n|2015-01-01 02:00:...|             448.0|                               323.0|                               0.0|               4857.0|                     4581.0|                157.0|                        0.0|                   0.0|                  0.0|                                      null|                                     1164.0|                                     973.0|                          1371.0|              0.0|            7099.0|            43.0|                      73.0|            50.0|           196.0|                     0.0|                 5461.0|                     8.0|                             null|                         5454.0|            23515.0|          22734.0|          47.33|       64.48|\n",
            "|2015-01-01 03:00:...| Valencia|           269.686|           269.686|           269.686|    1002|      78|         0|      23|    0.0|    0.0|    0.0|         0|       800|       clear|       sky is clear|         01n|2015-01-01 03:00:...|             438.0|                               254.0|                               0.0|               4314.0|                     4131.0|                160.0|                        0.0|                   0.0|                  0.0|                                      null|                                     1503.0|                                     949.0|                           779.0|              0.0|            7098.0|            43.0|                      75.0|            50.0|           191.0|                     0.0|                 5238.0|                     2.0|                             null|                         5151.0|            22642.0|          21286.0|          42.27|       59.32|\n",
            "|2015-01-01 04:00:...| Valencia|           269.686|           269.686|           269.686|    1002|      78|         0|      23|    0.0|    0.0|    0.0|         0|       800|       clear|       sky is clear|         01n|2015-01-01 04:00:...|             428.0|                               187.0|                               0.0|               4130.0|                     3840.0|                156.0|                        0.0|                   0.0|                  0.0|                                      null|                                     1826.0|                                     953.0|                           720.0|              0.0|            7097.0|            43.0|                      74.0|            42.0|           189.0|                     0.0|                 4935.0|                     9.0|                             null|                         4861.0|            21785.0|          20264.0|          38.41|       56.04|\n",
            "|2015-01-01 05:00:...| Valencia|270.29200000000003|270.29200000000003|270.29200000000003|    1004|      71|         2|     321|    0.0|    0.0|    0.0|         0|       800|       clear|       sky is clear|         01n|2015-01-01 05:00:...|             410.0|                               178.0|                               0.0|               4038.0|                     3590.0|                156.0|                        0.0|                   0.0|                  0.0|                                      null|                                     2109.0|                                     952.0|                           743.0|              0.0|            7098.0|            43.0|                      74.0|            34.0|           188.0|                     0.0|                 4618.0|                     4.0|                             null|                         4617.0|            21441.0|          19905.0|          35.72|       53.63|\n",
            "|2015-01-01 06:00:...| Valencia|270.29200000000003|270.29200000000003|270.29200000000003|    1004|      71|         2|     321|    0.0|    0.0|    0.0|         0|       800|       clear|       sky is clear|         01n|2015-01-01 06:00:...|             401.0|                               172.0|                               0.0|               4040.0|                     3368.0|                158.0|                        0.0|                   0.0|                  0.0|                                      null|                                     2108.0|                                     961.0|                           848.0|              0.0|            7098.0|            43.0|                      74.0|            34.0|           186.0|                     0.0|                 4397.0|                     3.0|                             null|                         4276.0|            21285.0|          20010.0|          35.13|       51.73|\n",
            "|2015-01-01 07:00:...| Valencia|270.29200000000003|270.29200000000003|270.29200000000003|    1004|      71|         2|     321|    0.0|    0.0|    0.0|         0|       800|       clear|       sky is clear|         01n|2015-01-01 07:00:...|             408.0|                               172.0|                               0.0|               4030.0|                     3208.0|                160.0|                        0.0|                   0.0|                  0.0|                                      null|                                     2031.0|                                     983.0|                          1012.0|              0.0|            7099.0|            43.0|                      72.0|            35.0|           189.0|                     0.0|                 3992.0|                    12.0|                             null|                         3994.0|            21545.0|          20377.0|          36.22|       51.43|\n",
            "|2015-01-01 08:00:...| Valencia|           274.601|           274.601|           274.601|    1005|      71|         1|     307|    0.0|    0.0|    0.0|         0|       800|       clear|       sky is clear|         01d|2015-01-01 08:00:...|             413.0|                               177.0|                               0.0|               4052.0|                     3335.0|                161.0|                        0.0|                   0.0|                  0.0|                                      null|                                     2119.0|                                    1001.0|                          1015.0|              0.0|            7098.0|            43.0|                      73.0|            54.0|           198.0|                     0.0|                 3629.0|                    39.0|                             null|                         3602.0|            21443.0|          20094.0|           32.4|       48.98|\n",
            "|2015-01-01 09:00:...| Valencia|           274.601|           274.601|           274.601|    1005|      71|         1|     307|    0.0|    0.0|    0.0|         0|       800|       clear|       sky is clear|         01d|2015-01-01 09:00:...|             419.0|                               177.0|                               0.0|               4137.0|                     3437.0|                163.0|                        0.0|                   0.0|                  0.0|                                      null|                                     2170.0|                                    1041.0|                          1357.0|              0.0|            7097.0|            43.0|                      74.0|           743.0|           198.0|                     0.0|                 3073.0|                   784.0|                             null|                         3212.0|            21560.0|          20637.0|           36.6|        54.2|\n",
            "+--------------------+---------+------------------+------------------+------------------+--------+--------+----------+--------+-------+-------+-------+----------+----------+------------+-------------------+------------+--------------------+------------------+------------------------------------+----------------------------------+---------------------+---------------------------+---------------------+---------------------------+----------------------+---------------------+------------------------------------------+-------------------------------------------+------------------------------------------+--------------------------------+-----------------+------------------+----------------+--------------------------+----------------+----------------+------------------------+-----------------------+------------------------+---------------------------------+-------------------------------+-------------------+-----------------+---------------+------------+\n",
            "only showing top 10 rows\n",
            "\n"
          ],
          "name": "stdout"
        }
      ]
    },
    {
      "cell_type": "markdown",
      "metadata": {
        "id": "rivzRDOXh-rR"
      },
      "source": [
        "We wanted to do some analsis using the K-nearest neighbors algorithm to try to make some predictions with our datasets. I played around using a few different sets of analysis data to see which produced a better accuracy score. A better accuracy score could show a stronger relationship between the analysis and target data. This helps us to have a better idea of which of the weather features have more of an impact on different energy features. First I wanted to see if different renewable energy generation data could be used to predict what the main weather description was for that day. For example, would high solar generation times correspond to days when the weather description was 'clear'?"
      ]
    },
    {
      "cell_type": "code",
      "metadata": {
        "colab": {
          "base_uri": "https://localhost:8080/"
        },
        "id": "7Y2A3BgN3qbl",
        "outputId": "82015b7d-6bfb-4c4c-d174-88264475464e"
      },
      "source": [
        "from sklearn.model_selection import train_test_split\n",
        "from sklearn.neighbors import KNeighborsClassifier\n",
        "import numpy as np\n",
        "import pandas as pd\n",
        "import matplotlib.pyplot as plt\n",
        "\n",
        "# drop rows that contain null values for the selected columns\n",
        "knn_df = combined_df.select('generation solar', 'generation wind onshore', 'generation wind offshore', 'weather_main')\n",
        "knn_df_drop = knn_df.dropna()\n",
        "\n",
        "#create feature and target arrays\n",
        "knn_data = np.array(knn_df_drop.select('generation solar', 'generation wind onshore', 'generation wind offshore').collect())\n",
        "knn_target = np.array(knn_df_drop.select('weather_main').collect())\n",
        "\n",
        "#use np.ravel() to convert the target array to the proper format\n",
        "knn_target = np.ravel(knn_target)\n",
        "\n",
        "#split into train and test sets\n",
        "X_train, X_test, y_train, y_test = train_test_split(knn_data, knn_target, test_size=0.2, random_state=42)\n",
        "\n",
        "#create the model\n",
        "knn = KNeighborsClassifier(n_neighbors = 7)\n",
        "knn.fit(X_train, y_train)\n",
        "\n",
        "#test the model\n",
        "print(knn.predict(X_test))\n",
        "\n",
        "#get the accuracy score for the model\n",
        "print(knn.score(X_test, y_test))\n"
      ],
      "execution_count": null,
      "outputs": [
        {
          "output_type": "stream",
          "text": [
            "['clear' 'clouds' 'clouds' ... 'clouds' 'clouds' 'clear']\n",
            "0.4859794739498626\n"
          ],
          "name": "stdout"
        }
      ]
    },
    {
      "cell_type": "markdown",
      "metadata": {
        "id": "N4sWD-9RC6bI"
      },
      "source": [
        "The accuracy for this model which predicted the main weather description based on onshore wind generation, offshore wind generation, and solar generation had an accuracy score of .486"
      ]
    },
    {
      "cell_type": "markdown",
      "metadata": {
        "id": "mMQmY8JkDZmE"
      },
      "source": [
        "Next we will run the same KNN model, but this time we will see if we are able to use energy prices to predict the temperature. This time we will look at just one city, since variations in average temperatures would impact our data. We will also just look at data for one year since pricing fluctuates over time. For this example, we will use data from Madrid in 2017."
      ]
    },
    {
      "cell_type": "code",
      "metadata": {
        "colab": {
          "base_uri": "https://localhost:8080/"
        },
        "id": "87Xo-kqAD-k1",
        "outputId": "27a17042-34a7-4572-bceb-3ff5a57a87db"
      },
      "source": [
        "from sklearn import preprocessing\n",
        "from sklearn import utils\n",
        "\n",
        "# drop rows that contain null values for the selected columns\n",
        "knn_df = combined_df.select('price actual', 'temp')\n",
        "knn_df_drop = knn_df.dropna()\n",
        "\n",
        "#create feature and target arrays\n",
        "knn_data = np.array(knn_df_drop.select('price actual').filter((weather_df.city_name == 'Madrid') & (weather_df.dt_iso.like('2017-11%'))).collect())\n",
        "knn_target = np.array(knn_df_drop.select('temp').filter((weather_df.city_name == 'Madrid') & (weather_df.dt_iso.like('2017-11%'))).collect())\n",
        "\n",
        "#use np.ravel() to convert the target array to the proper format\n",
        "knn_target = np.ravel(knn_target)\n",
        "\n",
        "#convert target data to categorical. KNN does not allow float values in the target set\n",
        "le = preprocessing.LabelEncoder()\n",
        "knn_target= le.fit_transform(knn_target)\n",
        "\n",
        "#split into train and test sets\n",
        "X_train, X_test, y_train, y_test = train_test_split(knn_data, knn_target, test_size=0.2, random_state=42)\n",
        "\n",
        "#create the model\n",
        "knn = KNeighborsClassifier(n_neighbors = 7)\n",
        "knn.fit(X_train, y_train)\n",
        "\n",
        "#test the model\n",
        "print(knn.predict(X_test))\n",
        "\n",
        "#get the accuracy score for the model\n",
        "print(knn.score(X_test, y_test))"
      ],
      "execution_count": null,
      "outputs": [
        {
          "output_type": "stream",
          "text": [
            "[  3  64  15  20   0  77  24  63  62  46  77   4  51  29  74 139 114 139\n",
            "  24 236  42  18  58  15 222 117  24  18  29 222  85 236  57 126  15  24\n",
            "  15 236 117 125  38 114  42 130  81  15  15  20  96 128  15  64  96 122\n",
            "   6  10  29  68  63  15  19 126  43 139  80  29  62  19  42 103 126  20\n",
            "  71  42  28  62  23  23  96  15 128 236  68  42  89  29 103  42  46  73\n",
            " 126  15  29  15 126  96 176 133 236 243  29  46 122 105 120  71 114  70\n",
            "  83  15   5 114  28  37  15 126  29  15  42  57  96   1  73 243 120  50\n",
            " 126  18  15 126  77 139  18  73 146  15  78  35  62  42 139  80  15 103\n",
            "  24  29]\n",
            "0.02054794520547945\n"
          ],
          "name": "stdout"
        }
      ]
    },
    {
      "cell_type": "markdown",
      "metadata": {
        "id": "ibeoLGJmOAnW"
      },
      "source": [
        "This model had a significantly lower accuracy score of 0.0205. This means that temperature alone was not useful in determining the energy prices. This could be due to the location of Madrid not having as large of temperature fluctuations. "
      ]
    },
    {
      "cell_type": "markdown",
      "metadata": {
        "id": "XVmxPxMCOpPg"
      },
      "source": [
        "Next we will try looking at how strong the relationship is between energy features such as price, total load, and waste and the main weather description for the day. Again we will look at Madrid in 2017."
      ]
    },
    {
      "cell_type": "code",
      "metadata": {
        "colab": {
          "base_uri": "https://localhost:8080/"
        },
        "id": "bJPbcBMZPGdq",
        "outputId": "9db8048e-20dd-4501-ba33-1fa7ae7d58ca"
      },
      "source": [
        "# drop rows that contain null values for the selected columns\n",
        "knn_df = combined_df.select('price actual', 'generation waste', 'total load actual', 'weather_main')\n",
        "knn_df_drop = knn_df.dropna()\n",
        "\n",
        "#create feature and target arrays\n",
        "knn_data = np.array(knn_df_drop.select('price actual', 'generation waste', 'total load actual').filter((weather_df.city_name == 'Madrid') & (weather_df.dt_iso.like('2017-11%'))).collect())\n",
        "knn_target = np.array(knn_df_drop.select('weather_main').filter((weather_df.city_name == 'Madrid') & (weather_df.dt_iso.like('2017-11%'))).collect())\n",
        "\n",
        "#use np.ravel() to convert the target array to the proper format\n",
        "knn_target = np.ravel(knn_target)\n",
        "\n",
        "#split into train and test sets\n",
        "X_train, X_test, y_train, y_test = train_test_split(knn_data, knn_target, test_size=0.2, random_state=42)\n",
        "\n",
        "#create the model\n",
        "knn = KNeighborsClassifier(n_neighbors = 7)\n",
        "knn.fit(X_train, y_train)\n",
        "\n",
        "#test the model\n",
        "print(knn.predict(X_test))\n",
        "\n",
        "#get the accuracy score for the model\n",
        "print(knn.score(X_test, y_test))"
      ],
      "execution_count": null,
      "outputs": [
        {
          "output_type": "stream",
          "text": [
            "['clear' 'clear' 'clear' 'clear' 'clear' 'clear' 'clear' 'clear' 'clear'\n",
            " 'clear' 'clear' 'clear' 'clear' 'clear' 'clear' 'clear' 'clear' 'clear'\n",
            " 'clear' 'clear' 'clear' 'clear' 'clear' 'clear' 'clear' 'clear' 'clear'\n",
            " 'clear' 'clear' 'clear' 'clear' 'clear' 'clear' 'clear' 'clouds' 'clear'\n",
            " 'clear' 'clouds' 'clear' 'clear' 'clear' 'clear' 'clear' 'clear' 'clear'\n",
            " 'clouds' 'clear' 'clear' 'clear' 'clear' 'clear' 'clear' 'clear' 'clear'\n",
            " 'clear' 'clouds' 'clear' 'clouds' 'clear' 'clouds' 'clear' 'clear'\n",
            " 'clear' 'clear' 'clear' 'clear' 'clear' 'clear' 'clear' 'clear' 'clear'\n",
            " 'clear' 'clear' 'clouds' 'clear' 'clear' 'clear' 'clear' 'clear' 'clear'\n",
            " 'clear' 'clear' 'clear' 'clear' 'clear' 'clear' 'clear' 'clear' 'clear'\n",
            " 'clear' 'clear' 'clear' 'clear' 'clear' 'clear' 'clear' 'clear' 'clouds'\n",
            " 'clear' 'clouds' 'clear' 'clear' 'clear' 'clear' 'clear' 'clear' 'clear'\n",
            " 'clear' 'clear' 'clear' 'clear' 'clear' 'clear' 'clear' 'clear' 'clear'\n",
            " 'clear' 'clear' 'clear' 'clouds' 'clear' 'clear' 'clear' 'clear' 'clear'\n",
            " 'clouds' 'clear' 'clear' 'clear' 'clear' 'clear' 'clear' 'clear' 'clear'\n",
            " 'clear' 'clear' 'clear' 'clear' 'clear' 'clear' 'clear' 'clear' 'clear'\n",
            " 'clear' 'clear' 'clear']\n",
            "0.5958904109589042\n"
          ],
          "name": "stdout"
        }
      ]
    },
    {
      "cell_type": "markdown",
      "metadata": {
        "id": "pI2zG8zGP928"
      },
      "source": [
        "This model had an accuracy of .596. This shows that there is a relationship between the weather and features like energy price and use. It is likely that a location with more drastic weather changes - or a location like Texas that is only prepared for one end of the temperature spectrum - would see a stronger correlation between these variables. "
      ]
    },
    {
      "cell_type": "code",
      "metadata": {
        "colab": {
          "base_uri": "https://localhost:8080/"
        },
        "id": "I12rm1JgTHbE",
        "outputId": "263da741-1cb4-4e83-a207-e25224e4259d"
      },
      "source": [
        "# drop rows that contain null values for the selected columns\n",
        "knn_df = combined_df.select('price actual', 'price day ahead', 'weather_main')\n",
        "knn_df_drop = knn_df.dropna()\n",
        "\n",
        "#create feature and target arrays\n",
        "knn_data = np.array(knn_df_drop.select('price actual', 'price day ahead').filter((weather_df.city_name == 'Madrid') & (weather_df.dt_iso.like('2017-11%'))).collect())\n",
        "knn_target = np.array(knn_df_drop.select('weather_main').filter((weather_df.city_name == 'Madrid') & (weather_df.dt_iso.like('2017-11%'))).collect())\n",
        "\n",
        "#use np.ravel() to convert the target array to the proper format\n",
        "knn_target = np.ravel(knn_target)\n",
        "\n",
        "#split into train and test sets\n",
        "X_train, X_test, y_train, y_test = train_test_split(knn_data, knn_target, test_size=0.2, random_state=42)\n",
        "\n",
        "#create the model\n",
        "knn = KNeighborsClassifier(n_neighbors = 7)\n",
        "knn.fit(X_train, y_train)\n",
        "\n",
        "#test the model\n",
        "print(knn.predict(X_test))\n",
        "\n",
        "#get the accuracy score for the model\n",
        "print(knn.score(X_test, y_test))"
      ],
      "execution_count": null,
      "outputs": [
        {
          "output_type": "stream",
          "text": [
            "['clear' 'clear' 'clear' 'clear' 'clear' 'clear' 'clouds' 'clear' 'clouds'\n",
            " 'clear' 'clear' 'clear' 'clear' 'clear' 'clouds' 'clouds' 'clear' 'clear'\n",
            " 'clear' 'clear' 'clear' 'clouds' 'clear' 'clear' 'clouds' 'clear' 'clear'\n",
            " 'clouds' 'clear' 'clear' 'clear' 'clouds' 'clouds' 'clouds' 'clear'\n",
            " 'clouds' 'clear' 'clouds' 'clouds' 'clear' 'clear' 'clear' 'clear'\n",
            " 'clear' 'clear' 'clear' 'clear' 'clear' 'clear' 'clear' 'clear' 'clear'\n",
            " 'clear' 'clear' 'clear' 'clear' 'clear' 'clear' 'clouds' 'clouds' 'clear'\n",
            " 'clear' 'clear' 'clear' 'clear' 'clear' 'clouds' 'clear' 'clear' 'clear'\n",
            " 'clear' 'clear' 'clear' 'clear' 'clear' 'clear' 'clouds' 'clear' 'clear'\n",
            " 'clear' 'clear' 'clear' 'clear' 'clear' 'clouds' 'clear' 'clear' 'clear'\n",
            " 'clear' 'clear' 'clear' 'clear' 'clear' 'clear' 'clear' 'clear' 'clear'\n",
            " 'clear' 'clear' 'clouds' 'clouds' 'clear' 'clear' 'clear' 'clear'\n",
            " 'clouds' 'clear' 'clear' 'clear' 'clear' 'clear' 'clear' 'clouds' 'clear'\n",
            " 'clear' 'clear' 'clear' 'clear' 'clear' 'clear' 'clear' 'clear' 'clear'\n",
            " 'clouds' 'clear' 'clear' 'clear' 'clear' 'clear' 'clear' 'clear' 'clear'\n",
            " 'clouds' 'clear' 'clear' 'clear' 'clouds' 'clouds' 'clear' 'clear'\n",
            " 'clouds' 'clear' 'clear' 'clear' 'clear' 'clear']\n",
            "0.7397260273972602\n"
          ],
          "name": "stdout"
        }
      ]
    },
    {
      "cell_type": "markdown",
      "metadata": {
        "id": "JEYlwrSzTYbB"
      },
      "source": [
        "The model using 'price day ahead' and 'price actual' was by far the best at predicting the 'weather_main' variable - with an accuracy score of 0.7397."
      ]
    }
  ]
}