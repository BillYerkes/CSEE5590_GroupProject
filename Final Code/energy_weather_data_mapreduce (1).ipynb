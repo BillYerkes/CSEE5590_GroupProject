{
  "nbformat": 4,
  "nbformat_minor": 0,
  "metadata": {
    "colab": {
      "name": "energy_weather_data_mapreduce",
      "provenance": [],
      "collapsed_sections": []
    },
    "kernelspec": {
      "name": "python3",
      "display_name": "Python 3"
    },
    "language_info": {
      "name": "python"
    }
  },
  "cells": [
    {
      "cell_type": "markdown",
      "metadata": {
        "id": "Zx2j5SR2X4h1"
      },
      "source": [
        "MapReduce can help with quickly pulling information about our two datasets. "
      ]
    },
    {
      "cell_type": "code",
      "metadata": {
        "colab": {
          "base_uri": "https://localhost:8080/"
        },
        "id": "VnHKEa3VY6yc",
        "outputId": "ecc05e9b-d336-4e34-e759-2211d46b2d23"
      },
      "source": [
        "pip install pyspark"
      ],
      "execution_count": null,
      "outputs": [
        {
          "output_type": "stream",
          "text": [
            "Collecting pyspark\n",
            "\u001b[?25l  Downloading https://files.pythonhosted.org/packages/45/b0/9d6860891ab14a39d4bddf80ba26ce51c2f9dc4805e5c6978ac0472c120a/pyspark-3.1.1.tar.gz (212.3MB)\n",
            "\u001b[K     |████████████████████████████████| 212.3MB 65kB/s \n",
            "\u001b[?25hCollecting py4j==0.10.9\n",
            "\u001b[?25l  Downloading https://files.pythonhosted.org/packages/9e/b6/6a4fb90cd235dc8e265a6a2067f2a2c99f0d91787f06aca4bcf7c23f3f80/py4j-0.10.9-py2.py3-none-any.whl (198kB)\n",
            "\u001b[K     |████████████████████████████████| 204kB 38.8MB/s \n",
            "\u001b[?25hBuilding wheels for collected packages: pyspark\n",
            "  Building wheel for pyspark (setup.py) ... \u001b[?25l\u001b[?25hdone\n",
            "  Created wheel for pyspark: filename=pyspark-3.1.1-py2.py3-none-any.whl size=212767604 sha256=099ca452aabe4112d20d1b14e681b78da5b0e9b8f7e8e3463ee723a71cd8fe5a\n",
            "  Stored in directory: /root/.cache/pip/wheels/0b/90/c0/01de724414ef122bd05f056541fb6a0ecf47c7ca655f8b3c0f\n",
            "Successfully built pyspark\n",
            "Installing collected packages: py4j, pyspark\n",
            "Successfully installed py4j-0.10.9 pyspark-3.1.1\n"
          ],
          "name": "stdout"
        }
      ]
    },
    {
      "cell_type": "markdown",
      "metadata": {
        "id": "MQpePVOdZkh1"
      },
      "source": [
        "Import pyspark and create the Spark session:"
      ]
    },
    {
      "cell_type": "code",
      "metadata": {
        "id": "S0zwU3HNZg0s"
      },
      "source": [
        "import pyspark\n",
        "from pyspark.sql import SparkSession\n",
        "from pyspark import SparkContext, SparkConf\n",
        "from pyspark.sql import *\n",
        "\n",
        "#create the session\n",
        "conf = SparkConf()\n",
        "\n",
        "#create the context\n",
        "sc = pyspark.SparkContext('local[*]')\n",
        "spark = SparkSession.builder.getOrCreate()"
      ],
      "execution_count": null,
      "outputs": []
    },
    {
      "cell_type": "markdown",
      "metadata": {
        "id": "Qpp5BmPEZrNp"
      },
      "source": [
        "Create the dataframes from our csv files:"
      ]
    },
    {
      "cell_type": "code",
      "metadata": {
        "id": "WpZuTWFYZhpl",
        "colab": {
          "base_uri": "https://localhost:8080/"
        },
        "outputId": "32e8be33-369c-471b-99f0-1493d9e54e9b"
      },
      "source": [
        "#inferSchema allows different datatypes\n",
        "energy_df = spark.read.csv('energy_dataset.csv', inferSchema=True, header=True)\n",
        "energy_df.show(10)\n",
        "\n",
        "weather_df = spark.read.csv('weather_features.csv', inferSchema=True, header=True)\n",
        "weather_df.show(10)"
      ],
      "execution_count": null,
      "outputs": [
        {
          "output_type": "stream",
          "text": [
            "+--------------------+------------------+------------------------------------+----------------------------------+---------------------+---------------------------+---------------------+---------------------------+----------------------+---------------------+------------------------------------------+-------------------------------------------+------------------------------------------+--------------------------------+-----------------+------------------+----------------+--------------------------+----------------+----------------+------------------------+-----------------------+------------------------+---------------------------------+-------------------------------+-------------------+-----------------+---------------+------------+\n",
            "|                time|generation biomass|generation fossil brown coal/lignite|generation fossil coal-derived gas|generation fossil gas|generation fossil hard coal|generation fossil oil|generation fossil oil shale|generation fossil peat|generation geothermal|generation hydro pumped storage aggregated|generation hydro pumped storage consumption|generation hydro run-of-river and poundage|generation hydro water reservoir|generation marine|generation nuclear|generation other|generation other renewable|generation solar|generation waste|generation wind offshore|generation wind onshore|forecast solar day ahead|forecast wind offshore eday ahead|forecast wind onshore day ahead|total load forecast|total load actual|price day ahead|price actual|\n",
            "+--------------------+------------------+------------------------------------+----------------------------------+---------------------+---------------------------+---------------------+---------------------------+----------------------+---------------------+------------------------------------------+-------------------------------------------+------------------------------------------+--------------------------------+-----------------+------------------+----------------+--------------------------+----------------+----------------+------------------------+-----------------------+------------------------+---------------------------------+-------------------------------+-------------------+-----------------+---------------+------------+\n",
            "|2015-01-01 00:00:...|             447.0|                               329.0|                               0.0|               4844.0|                     4821.0|                162.0|                        0.0|                   0.0|                  0.0|                                      null|                                      863.0|                                    1051.0|                          1899.0|              0.0|            7096.0|            43.0|                      73.0|            49.0|           196.0|                     0.0|                 6378.0|                    17.0|                             null|                         6436.0|            26118.0|          25385.0|           50.1|       65.41|\n",
            "|2015-01-01 01:00:...|             449.0|                               328.0|                               0.0|               5196.0|                     4755.0|                158.0|                        0.0|                   0.0|                  0.0|                                      null|                                      920.0|                                    1009.0|                          1658.0|              0.0|            7096.0|            43.0|                      71.0|            50.0|           195.0|                     0.0|                 5890.0|                    16.0|                             null|                         5856.0|            24934.0|          24382.0|           48.1|       64.92|\n",
            "|2015-01-01 02:00:...|             448.0|                               323.0|                               0.0|               4857.0|                     4581.0|                157.0|                        0.0|                   0.0|                  0.0|                                      null|                                     1164.0|                                     973.0|                          1371.0|              0.0|            7099.0|            43.0|                      73.0|            50.0|           196.0|                     0.0|                 5461.0|                     8.0|                             null|                         5454.0|            23515.0|          22734.0|          47.33|       64.48|\n",
            "|2015-01-01 03:00:...|             438.0|                               254.0|                               0.0|               4314.0|                     4131.0|                160.0|                        0.0|                   0.0|                  0.0|                                      null|                                     1503.0|                                     949.0|                           779.0|              0.0|            7098.0|            43.0|                      75.0|            50.0|           191.0|                     0.0|                 5238.0|                     2.0|                             null|                         5151.0|            22642.0|          21286.0|          42.27|       59.32|\n",
            "|2015-01-01 04:00:...|             428.0|                               187.0|                               0.0|               4130.0|                     3840.0|                156.0|                        0.0|                   0.0|                  0.0|                                      null|                                     1826.0|                                     953.0|                           720.0|              0.0|            7097.0|            43.0|                      74.0|            42.0|           189.0|                     0.0|                 4935.0|                     9.0|                             null|                         4861.0|            21785.0|          20264.0|          38.41|       56.04|\n",
            "|2015-01-01 05:00:...|             410.0|                               178.0|                               0.0|               4038.0|                     3590.0|                156.0|                        0.0|                   0.0|                  0.0|                                      null|                                     2109.0|                                     952.0|                           743.0|              0.0|            7098.0|            43.0|                      74.0|            34.0|           188.0|                     0.0|                 4618.0|                     4.0|                             null|                         4617.0|            21441.0|          19905.0|          35.72|       53.63|\n",
            "|2015-01-01 06:00:...|             401.0|                               172.0|                               0.0|               4040.0|                     3368.0|                158.0|                        0.0|                   0.0|                  0.0|                                      null|                                     2108.0|                                     961.0|                           848.0|              0.0|            7098.0|            43.0|                      74.0|            34.0|           186.0|                     0.0|                 4397.0|                     3.0|                             null|                         4276.0|            21285.0|          20010.0|          35.13|       51.73|\n",
            "|2015-01-01 07:00:...|             408.0|                               172.0|                               0.0|               4030.0|                     3208.0|                160.0|                        0.0|                   0.0|                  0.0|                                      null|                                     2031.0|                                     983.0|                          1012.0|              0.0|            7099.0|            43.0|                      72.0|            35.0|           189.0|                     0.0|                 3992.0|                    12.0|                             null|                         3994.0|            21545.0|          20377.0|          36.22|       51.43|\n",
            "|2015-01-01 08:00:...|             413.0|                               177.0|                               0.0|               4052.0|                     3335.0|                161.0|                        0.0|                   0.0|                  0.0|                                      null|                                     2119.0|                                    1001.0|                          1015.0|              0.0|            7098.0|            43.0|                      73.0|            54.0|           198.0|                     0.0|                 3629.0|                    39.0|                             null|                         3602.0|            21443.0|          20094.0|           32.4|       48.98|\n",
            "|2015-01-01 09:00:...|             419.0|                               177.0|                               0.0|               4137.0|                     3437.0|                163.0|                        0.0|                   0.0|                  0.0|                                      null|                                     2170.0|                                    1041.0|                          1357.0|              0.0|            7097.0|            43.0|                      74.0|           743.0|           198.0|                     0.0|                 3073.0|                   784.0|                             null|                         3212.0|            21560.0|          20637.0|           36.6|        54.2|\n",
            "+--------------------+------------------+------------------------------------+----------------------------------+---------------------+---------------------------+---------------------+---------------------------+----------------------+---------------------+------------------------------------------+-------------------------------------------+------------------------------------------+--------------------------------+-----------------+------------------+----------------+--------------------------+----------------+----------------+------------------------+-----------------------+------------------------+---------------------------------+-------------------------------+-------------------+-----------------+---------------+------------+\n",
            "only showing top 10 rows\n",
            "\n",
            "+--------------------+---------+------------------+------------------+------------------+--------+--------+----------+--------+-------+-------+-------+----------+----------+------------+-------------------+------------+\n",
            "|              dt_iso|city_name|              temp|          temp_min|          temp_max|pressure|humidity|wind_speed|wind_deg|rain_1h|rain_3h|snow_3h|clouds_all|weather_id|weather_main|weather_description|weather_icon|\n",
            "+--------------------+---------+------------------+------------------+------------------+--------+--------+----------+--------+-------+-------+-------+----------+----------+------------+-------------------+------------+\n",
            "|2015-01-01 00:00:...| Valencia|           270.475|           270.475|           270.475|    1001|      77|         1|      62|    0.0|    0.0|    0.0|         0|       800|       clear|       sky is clear|         01n|\n",
            "|2015-01-01 01:00:...| Valencia|           270.475|           270.475|           270.475|    1001|      77|         1|      62|    0.0|    0.0|    0.0|         0|       800|       clear|       sky is clear|         01n|\n",
            "|2015-01-01 02:00:...| Valencia|           269.686|           269.686|           269.686|    1002|      78|         0|      23|    0.0|    0.0|    0.0|         0|       800|       clear|       sky is clear|         01n|\n",
            "|2015-01-01 03:00:...| Valencia|           269.686|           269.686|           269.686|    1002|      78|         0|      23|    0.0|    0.0|    0.0|         0|       800|       clear|       sky is clear|         01n|\n",
            "|2015-01-01 04:00:...| Valencia|           269.686|           269.686|           269.686|    1002|      78|         0|      23|    0.0|    0.0|    0.0|         0|       800|       clear|       sky is clear|         01n|\n",
            "|2015-01-01 05:00:...| Valencia|270.29200000000003|270.29200000000003|270.29200000000003|    1004|      71|         2|     321|    0.0|    0.0|    0.0|         0|       800|       clear|       sky is clear|         01n|\n",
            "|2015-01-01 06:00:...| Valencia|270.29200000000003|270.29200000000003|270.29200000000003|    1004|      71|         2|     321|    0.0|    0.0|    0.0|         0|       800|       clear|       sky is clear|         01n|\n",
            "|2015-01-01 07:00:...| Valencia|270.29200000000003|270.29200000000003|270.29200000000003|    1004|      71|         2|     321|    0.0|    0.0|    0.0|         0|       800|       clear|       sky is clear|         01n|\n",
            "|2015-01-01 08:00:...| Valencia|           274.601|           274.601|           274.601|    1005|      71|         1|     307|    0.0|    0.0|    0.0|         0|       800|       clear|       sky is clear|         01d|\n",
            "|2015-01-01 09:00:...| Valencia|           274.601|           274.601|           274.601|    1005|      71|         1|     307|    0.0|    0.0|    0.0|         0|       800|       clear|       sky is clear|         01d|\n",
            "+--------------------+---------+------------------+------------------+------------------+--------+--------+----------+--------+-------+-------+-------+----------+----------+------------+-------------------+------------+\n",
            "only showing top 10 rows\n",
            "\n"
          ],
          "name": "stdout"
        }
      ]
    },
    {
      "cell_type": "markdown",
      "metadata": {
        "id": "DQl_tIwARQIN"
      },
      "source": [
        "Some pyspark queries using map-reduce:"
      ]
    },
    {
      "cell_type": "code",
      "metadata": {
        "colab": {
          "base_uri": "https://localhost:8080/"
        },
        "id": "Aywv5tg-RTGs",
        "outputId": "7979f364-1f5f-4bcf-ac68-32cd110da74c"
      },
      "source": [
        "print(\"Average temperature by city:\\n\")\n",
        "weather_df.rdd.map(lambda x: (x[1], x[3])) \\\n",
        ".mapValues(lambda x: (x, 1)) \\\n",
        ".reduceByKey(lambda x, y: (x[0]+y[0], x[1]+y[1])) \\\n",
        ".mapValues(lambda x: x[0]/x[1]) \\\n",
        ".take(5)"
      ],
      "execution_count": null,
      "outputs": [
        {
          "output_type": "stream",
          "text": [
            "Average temperature by city:\n",
            "\n"
          ],
          "name": "stdout"
        },
        {
          "output_type": "execute_result",
          "data": {
            "text/plain": [
              "[('Bilbao', 284.91666115356213),\n",
              " (' Barcelona', 288.59470412145697),\n",
              " ('Valencia', 290.2222765464678),\n",
              " ('Madrid', 286.82487717417484),\n",
              " ('Seville', 291.1841030547889)]"
            ]
          },
          "metadata": {
            "tags": []
          },
          "execution_count": 4
        }
      ]
    },
    {
      "cell_type": "code",
      "metadata": {
        "colab": {
          "base_uri": "https://localhost:8080/"
        },
        "id": "IRSrZLxgoXSw",
        "outputId": "29847eae-687b-4bf9-e66b-44e9386fa7ee"
      },
      "source": [
        "weather_df.filter(weather_df['snow_3h'] > 0).groupBy(weather_df['city_name']).count().take(5)"
      ],
      "execution_count": null,
      "outputs": [
        {
          "output_type": "execute_result",
          "data": {
            "text/plain": [
              "[Row(city_name='Madrid', count=1),\n",
              " Row(city_name='Bilbao', count=257),\n",
              " Row(city_name='Valencia', count=9)]"
            ]
          },
          "metadata": {
            "tags": []
          },
          "execution_count": 5
        }
      ]
    },
    {
      "cell_type": "code",
      "metadata": {
        "colab": {
          "base_uri": "https://localhost:8080/"
        },
        "id": "bLOpJOOkwedq",
        "outputId": "de7611de-191b-4ef3-890c-f1ce61224f49"
      },
      "source": [
        "weather_df.filter(weather_df['weather_main'] == 'clear').groupBy(weather_df['city_name']).count().take(5)"
      ],
      "execution_count": null,
      "outputs": [
        {
          "output_type": "execute_result",
          "data": {
            "text/plain": [
              "[Row(city_name='Madrid', count=20356),\n",
              " Row(city_name='Seville', count=23581),\n",
              " Row(city_name=' Barcelona', count=14760),\n",
              " Row(city_name='Bilbao', count=8453),\n",
              " Row(city_name='Valencia', count=15535)]"
            ]
          },
          "metadata": {
            "tags": []
          },
          "execution_count": 6
        }
      ]
    },
    {
      "cell_type": "code",
      "metadata": {
        "colab": {
          "base_uri": "https://localhost:8080/"
        },
        "id": "62tTVhG9bjk7",
        "outputId": "f7fca6d1-3b04-4054-8b28-3c73dc154b90"
      },
      "source": [
        "print(\"Average pressure by city:\\n\")\n",
        "weather_df.rdd.map(lambda x: (x[1], x[5])) \\\n",
        ".mapValues(lambda x: (x, 1)) \\\n",
        ".reduceByKey(lambda x, y: (x[0]+y[0], x[1],y[1])) \\\n",
        ".mapValues(lambda x: x[0]/x[1]) \\\n",
        ".take(5)"
      ],
      "execution_count": null,
      "outputs": [
        {
          "output_type": "stream",
          "text": [
            "Average pressure by city:\n",
            "\n"
          ],
          "name": "stdout"
        },
        {
          "output_type": "execute_result",
          "data": {
            "text/plain": [
              "[('Bilbao', 36582567.0),\n",
              " (' Barcelona', 45551556.0),\n",
              " ('Valencia', 35706399.0),\n",
              " ('Madrid', 36696345.0),\n",
              " ('Seville', 36214972.0)]"
            ]
          },
          "metadata": {
            "tags": []
          },
          "execution_count": 7
        }
      ]
    },
    {
      "cell_type": "code",
      "metadata": {
        "colab": {
          "base_uri": "https://localhost:8080/"
        },
        "id": "DYtELCQicQ11",
        "outputId": "b190cf93-595e-4171-c714-924945bd8365"
      },
      "source": [
        "print(\"Average weather id by city: \\n\")\n",
        "weather_df.rdd.map(lambda x: (x[1], x[13])) \\\n",
        ".mapValues(lambda x: (x, 1)) \\\n",
        ".reduceByKey(lambda x, y:(x[0]+y[0], x[1]+y[1])) \\\n",
        ".mapValues(lambda x: x[0]/x[1]) \\\n",
        ".take(5)"
      ],
      "execution_count": null,
      "outputs": [
        {
          "output_type": "stream",
          "text": [
            "Average weather id by city: \n",
            "\n"
          ],
          "name": "stdout"
        },
        {
          "output_type": "execute_result",
          "data": {
            "text/plain": [
              "[('Bilbao', 723.9432282829407),\n",
              " (' Barcelona', 760.917465328673),\n",
              " ('Valencia', 781.2282828282828),\n",
              " ('Madrid', 762.2602641519838),\n",
              " ('Seville', 771.4098489748854)]"
            ]
          },
          "metadata": {
            "tags": []
          },
          "execution_count": 8
        }
      ]
    },
    {
      "cell_type": "code",
      "metadata": {
        "colab": {
          "base_uri": "https://localhost:8080/"
        },
        "id": "b9PGHQLedfMT",
        "outputId": "68e4354a-1f8c-4a24-aa49-b2fcb780e0cc"
      },
      "source": [
        "print(\"Average snow_3h per city:\\n\")\n",
        "weather_df.rdd.map(lambda x: (x[1], x[11])) \\\n",
        ".mapValues(lambda x: (x, 1)) \\\n",
        ".reduceByKey(lambda x, y: (x[0]+y[0], x[1]+y[1])) \\\n",
        ".mapValues(lambda x: x[0]/x[1]) \\\n",
        ".take(5)"
      ],
      "execution_count": null,
      "outputs": [
        {
          "output_type": "stream",
          "text": [
            "Average snow_3h per city:\n",
            "\n"
          ],
          "name": "stdout"
        },
        {
          "output_type": "execute_result",
          "data": {
            "text/plain": [
              "[('Bilbao', 0.02345514728380295),\n",
              " (' Barcelona', 0.0),\n",
              " ('Valencia', 0.00015364916773367477),\n",
              " ('Madrid', 2.8924366503984343e-05),\n",
              " ('Seville', 0.0)]"
            ]
          },
          "metadata": {
            "tags": []
          },
          "execution_count": 9
        }
      ]
    },
    {
      "cell_type": "code",
      "metadata": {
        "colab": {
          "base_uri": "https://localhost:8080/"
        },
        "id": "mrsAfpy-naSE",
        "outputId": "a963b475-2e2b-468c-b529-3a9b2aa338e1"
      },
      "source": [
        "from pyspark.sql.functions import *\n",
        "energy_df.agg(min(col(\"price actual\")), max(col(\"price actual\")), min(col(\"price day ahead\")), max(col(\"price day ahead\"))).show()"
      ],
      "execution_count": null,
      "outputs": [
        {
          "output_type": "stream",
          "text": [
            "+-----------------+-----------------+--------------------+--------------------+\n",
            "|min(price actual)|max(price actual)|min(price day ahead)|max(price day ahead)|\n",
            "+-----------------+-----------------+--------------------+--------------------+\n",
            "|             9.33|            116.8|                2.06|              101.99|\n",
            "+-----------------+-----------------+--------------------+--------------------+\n",
            "\n"
          ],
          "name": "stdout"
        }
      ]
    },
    {
      "cell_type": "code",
      "metadata": {
        "colab": {
          "base_uri": "https://localhost:8080/"
        },
        "id": "a6gzkX_GxLml",
        "outputId": "553b4604-cdeb-4a85-b645-891524885d0a"
      },
      "source": [
        "energy_df.agg(min(col(\"generation solar\")), max(col(\"generation solar\")), min(col(\"generation wind onshore\")), \\\n",
        "              max(col(\"generation wind onshore\")), min(col(\"generation nuclear\")), max(col(\"generation nuclear\")), \\\n",
        "              min(col(\"generation other renewable\")), max(col(\"generation other renewable\"))).show()"
      ],
      "execution_count": null,
      "outputs": [
        {
          "output_type": "stream",
          "text": [
            "+---------------------+---------------------+----------------------------+----------------------------+-----------------------+-----------------------+-------------------------------+-------------------------------+\n",
            "|min(generation solar)|max(generation solar)|min(generation wind onshore)|max(generation wind onshore)|min(generation nuclear)|max(generation nuclear)|min(generation other renewable)|max(generation other renewable)|\n",
            "+---------------------+---------------------+----------------------------+----------------------------+-----------------------+-----------------------+-------------------------------+-------------------------------+\n",
            "|                  0.0|               5792.0|                         0.0|                     17436.0|                    0.0|                 7117.0|                            0.0|                          119.0|\n",
            "+---------------------+---------------------+----------------------------+----------------------------+-----------------------+-----------------------+-------------------------------+-------------------------------+\n",
            "\n"
          ],
          "name": "stdout"
        }
      ]
    }
  ]
}